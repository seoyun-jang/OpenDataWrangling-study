{
 "cells": [
  {
   "cell_type": "code",
   "execution_count": 1,
   "metadata": {},
   "outputs": [
    {
     "name": "stdout",
     "output_type": "stream",
     "text": [
      "Name: plotnine\n",
      "Version: 0.6.0\n",
      "Summary: A grammar of graphics for python\n",
      "Home-page: https://github.com/has2k1/plotnine\n",
      "Author: None\n",
      "Author-email: None\n",
      "License: GPL-2\n",
      "Location: c:\\users\\seoyu\\anaconda3\\lib\\site-packages\n",
      "Requires: descartes, scipy, numpy, matplotlib, mizani, patsy, statsmodels, pandas\n",
      "Required-by: \n",
      "Note: you may need to restart the kernel to use updated packages.\n"
     ]
    }
   ],
   "source": [
    "pip show plotnine"
   ]
  },
  {
   "cell_type": "code",
   "execution_count": 2,
   "metadata": {
    "scrolled": true
   },
   "outputs": [
    {
     "name": "stdout",
     "output_type": "stream",
     "text": [
      "Name: missingno\n",
      "Version: 0.4.2\n",
      "Summary: Missing data visualization module for Python.\n",
      "Home-page: https://github.com/ResidentMario/missingno\n",
      "Author: Aleksey Bilogur\n",
      "Author-email: aleksey.bilogur@gmail.com\n",
      "License: UNKNOWN\n",
      "Location: c:\\users\\seoyu\\anaconda3\\lib\\site-packages\n",
      "Requires: seaborn, scipy, numpy, matplotlib\n",
      "Required-by: \n",
      "Note: you may need to restart the kernel to use updated packages.\n"
     ]
    }
   ],
   "source": [
    "pip show missingno"
   ]
  },
  {
   "cell_type": "code",
   "execution_count": 3,
   "metadata": {},
   "outputs": [],
   "source": [
    "import warnings\n",
    "warnings.filterwarnings('ignore')"
   ]
  },
  {
   "cell_type": "code",
   "execution_count": 4,
   "metadata": {},
   "outputs": [
    {
     "name": "stderr",
     "output_type": "stream",
     "text": [
      "\n",
      "Bad key \"'font.family\" on line 623 in\n",
      "C:\\Users\\seoyu\\Anaconda3\\lib\\site-packages\\matplotlib\\mpl-data\\matplotlibrc.\n",
      "You probably need to get an updated matplotlibrc file from\n",
      "https://github.com/matplotlib/matplotlib/blob/v3.1.2/matplotlibrc.template\n",
      "or from the matplotlib source distribution\n"
     ]
    }
   ],
   "source": [
    "import pandas as pd\n",
    "import numpy as np\n",
    "import re # 정규식\n",
    "from  plotnine import *\n",
    "\n",
    "import matplotlib.pyplot as plt\n",
    "plt.rc('font',family='Malgun Gothic')"
   ]
  },
  {
   "cell_type": "code",
   "execution_count": 5,
   "metadata": {},
   "outputs": [
    {
     "data": {
      "text/plain": [
       "'C:\\\\Users\\\\seoyu\\\\Inflearn'"
      ]
     },
     "execution_count": 5,
     "metadata": {},
     "output_type": "execute_result"
    }
   ],
   "source": [
    "# 현재 위치정보 확인\n",
    "%pwd"
   ]
  },
  {
   "cell_type": "code",
   "execution_count": 6,
   "metadata": {
    "scrolled": true
   },
   "outputs": [
    {
     "name": "stderr",
     "output_type": "stream",
     "text": [
      "매개 변수 포맷이 틀립니다 - \"pt_price\".\n"
     ]
    }
   ],
   "source": [
    "%ls data/apt_price/"
   ]
  },
  {
   "cell_type": "code",
   "execution_count": 7,
   "metadata": {},
   "outputs": [
    {
     "data": {
      "text/plain": [
       "(2890, 5)"
      ]
     },
     "execution_count": 7,
     "metadata": {},
     "output_type": "execute_result"
    }
   ],
   "source": [
    "pre_sale = pd.read_csv('data/apt_price/전국_평균_분양가격_2018.7월_.csv', encoding='euc-kr')\n",
    "pre_sale.shape"
   ]
  },
  {
   "cell_type": "code",
   "execution_count": 8,
   "metadata": {},
   "outputs": [
    {
     "data": {
      "text/html": [
       "<div>\n",
       "<style scoped>\n",
       "    .dataframe tbody tr th:only-of-type {\n",
       "        vertical-align: middle;\n",
       "    }\n",
       "\n",
       "    .dataframe tbody tr th {\n",
       "        vertical-align: top;\n",
       "    }\n",
       "\n",
       "    .dataframe thead th {\n",
       "        text-align: right;\n",
       "    }\n",
       "</style>\n",
       "<table border=\"1\" class=\"dataframe\">\n",
       "  <thead>\n",
       "    <tr style=\"text-align: right;\">\n",
       "      <th></th>\n",
       "      <th>지역명</th>\n",
       "      <th>규모구분</th>\n",
       "      <th>연도</th>\n",
       "      <th>월</th>\n",
       "      <th>분양가격(㎡)</th>\n",
       "    </tr>\n",
       "  </thead>\n",
       "  <tbody>\n",
       "    <tr>\n",
       "      <th>0</th>\n",
       "      <td>서울</td>\n",
       "      <td>전체</td>\n",
       "      <td>2015</td>\n",
       "      <td>10</td>\n",
       "      <td>5841</td>\n",
       "    </tr>\n",
       "    <tr>\n",
       "      <th>1</th>\n",
       "      <td>서울</td>\n",
       "      <td>전용면적 60㎡이하</td>\n",
       "      <td>2015</td>\n",
       "      <td>10</td>\n",
       "      <td>5652</td>\n",
       "    </tr>\n",
       "    <tr>\n",
       "      <th>2</th>\n",
       "      <td>서울</td>\n",
       "      <td>전용면적 60㎡초과 85㎡이하</td>\n",
       "      <td>2015</td>\n",
       "      <td>10</td>\n",
       "      <td>5882</td>\n",
       "    </tr>\n",
       "    <tr>\n",
       "      <th>3</th>\n",
       "      <td>서울</td>\n",
       "      <td>전용면적 85㎡초과 102㎡이하</td>\n",
       "      <td>2015</td>\n",
       "      <td>10</td>\n",
       "      <td>5721</td>\n",
       "    </tr>\n",
       "    <tr>\n",
       "      <th>4</th>\n",
       "      <td>서울</td>\n",
       "      <td>전용면적 102㎡초과</td>\n",
       "      <td>2015</td>\n",
       "      <td>10</td>\n",
       "      <td>5879</td>\n",
       "    </tr>\n",
       "  </tbody>\n",
       "</table>\n",
       "</div>"
      ],
      "text/plain": [
       "  지역명               규모구분    연도   월 분양가격(㎡)\n",
       "0  서울                 전체  2015  10    5841\n",
       "1  서울         전용면적 60㎡이하  2015  10    5652\n",
       "2  서울   전용면적 60㎡초과 85㎡이하  2015  10    5882\n",
       "3  서울  전용면적 85㎡초과 102㎡이하  2015  10    5721\n",
       "4  서울        전용면적 102㎡초과  2015  10    5879"
      ]
     },
     "execution_count": 8,
     "metadata": {},
     "output_type": "execute_result"
    }
   ],
   "source": [
    "pre_sale.head()"
   ]
  },
  {
   "cell_type": "code",
   "execution_count": 9,
   "metadata": {},
   "outputs": [
    {
     "data": {
      "text/html": [
       "<div>\n",
       "<style scoped>\n",
       "    .dataframe tbody tr th:only-of-type {\n",
       "        vertical-align: middle;\n",
       "    }\n",
       "\n",
       "    .dataframe tbody tr th {\n",
       "        vertical-align: top;\n",
       "    }\n",
       "\n",
       "    .dataframe thead th {\n",
       "        text-align: right;\n",
       "    }\n",
       "</style>\n",
       "<table border=\"1\" class=\"dataframe\">\n",
       "  <thead>\n",
       "    <tr style=\"text-align: right;\">\n",
       "      <th></th>\n",
       "      <th>지역명</th>\n",
       "      <th>규모구분</th>\n",
       "      <th>연도</th>\n",
       "      <th>월</th>\n",
       "      <th>분양가격(㎡)</th>\n",
       "    </tr>\n",
       "  </thead>\n",
       "  <tbody>\n",
       "    <tr>\n",
       "      <th>2885</th>\n",
       "      <td>제주</td>\n",
       "      <td>전체</td>\n",
       "      <td>2018</td>\n",
       "      <td>7</td>\n",
       "      <td>3334</td>\n",
       "    </tr>\n",
       "    <tr>\n",
       "      <th>2886</th>\n",
       "      <td>제주</td>\n",
       "      <td>전용면적 60㎡이하</td>\n",
       "      <td>2018</td>\n",
       "      <td>7</td>\n",
       "      <td>NaN</td>\n",
       "    </tr>\n",
       "    <tr>\n",
       "      <th>2887</th>\n",
       "      <td>제주</td>\n",
       "      <td>전용면적 60㎡초과 85㎡이하</td>\n",
       "      <td>2018</td>\n",
       "      <td>7</td>\n",
       "      <td>3356</td>\n",
       "    </tr>\n",
       "    <tr>\n",
       "      <th>2888</th>\n",
       "      <td>제주</td>\n",
       "      <td>전용면적 85㎡초과 102㎡이하</td>\n",
       "      <td>2018</td>\n",
       "      <td>7</td>\n",
       "      <td>3226</td>\n",
       "    </tr>\n",
       "    <tr>\n",
       "      <th>2889</th>\n",
       "      <td>제주</td>\n",
       "      <td>전용면적 102㎡초과</td>\n",
       "      <td>2018</td>\n",
       "      <td>7</td>\n",
       "      <td>2990</td>\n",
       "    </tr>\n",
       "  </tbody>\n",
       "</table>\n",
       "</div>"
      ],
      "text/plain": [
       "     지역명               규모구분    연도  월 분양가격(㎡)\n",
       "2885  제주                 전체  2018  7    3334\n",
       "2886  제주         전용면적 60㎡이하  2018  7     NaN\n",
       "2887  제주   전용면적 60㎡초과 85㎡이하  2018  7    3356\n",
       "2888  제주  전용면적 85㎡초과 102㎡이하  2018  7    3226\n",
       "2889  제주        전용면적 102㎡초과  2018  7    2990"
      ]
     },
     "execution_count": 9,
     "metadata": {},
     "output_type": "execute_result"
    }
   ],
   "source": [
    "pre_sale.tail()"
   ]
  },
  {
   "cell_type": "code",
   "execution_count": 10,
   "metadata": {},
   "outputs": [
    {
     "name": "stdout",
     "output_type": "stream",
     "text": [
      "<class 'pandas.core.frame.DataFrame'>\n",
      "RangeIndex: 2890 entries, 0 to 2889\n",
      "Data columns (total 5 columns):\n",
      "지역명        2890 non-null object\n",
      "규모구분       2890 non-null object\n",
      "연도         2890 non-null int64\n",
      "월          2890 non-null int64\n",
      "분양가격(㎡)    2750 non-null object\n",
      "dtypes: int64(2), object(3)\n",
      "memory usage: 113.0+ KB\n"
     ]
    }
   ],
   "source": [
    "# 데이터 정보 요약\n",
    "pre_sale.info()"
   ]
  },
  {
   "cell_type": "markdown",
   "metadata": {},
   "source": [
    "분양가격이 object type이기 때문에 숫자타입으로 변경해야 할 필요가 있다."
   ]
  },
  {
   "cell_type": "code",
   "execution_count": 11,
   "metadata": {
    "scrolled": true
   },
   "outputs": [
    {
     "data": {
      "text/plain": [
       "지역명          0\n",
       "규모구분         0\n",
       "연도           0\n",
       "월            0\n",
       "분양가격(㎡)    140\n",
       "dtype: int64"
      ]
     },
     "execution_count": 11,
     "metadata": {},
     "output_type": "execute_result"
    }
   ],
   "source": [
    "pre_sale.isnull().sum()"
   ]
  },
  {
   "cell_type": "code",
   "execution_count": 12,
   "metadata": {},
   "outputs": [
    {
     "data": {
      "text/plain": [
       "<matplotlib.axes._subplots.AxesSubplot at 0x210c643fa90>"
      ]
     },
     "execution_count": 12,
     "metadata": {},
     "output_type": "execute_result"
    },
    {
     "data": {
      "image/png": "[encoded data removed]",
      "text/plain": [
       "<Figure size 1296x432 with 2 Axes>"
      ]
     },
     "metadata": {
      "needs_background": "light"
     },
     "output_type": "display_data"
    }
   ],
   "source": [
    "import missingno as msno\n",
    "msno.matrix(pre_sale, figsize=(18,6))"
   ]
  },
  {
   "cell_type": "code",
   "execution_count": 13,
   "metadata": {},
   "outputs": [],
   "source": [
    " # 연도와 월을 카테고리 형태의 데이터이기 때문에 스트링 형태로 변경\n",
    "\n",
    "pre_sale['연도'] = pre_sale['연도'].astype(str)\n",
    "pre_sale['월'] = pre_sale['월'].astype(str)"
   ]
  },
  {
   "cell_type": "code",
   "execution_count": 14,
   "metadata": {},
   "outputs": [],
   "source": [
    "pre_sale_price = pre_sale['분양가격(㎡)']"
   ]
  },
  {
   "cell_type": "code",
   "execution_count": 15,
   "metadata": {},
   "outputs": [],
   "source": [
    "# 분양가격의 타입을 숫자로 변경 (새로운 (컬럼)을 만들어 넣음)\n",
    "pre_sale['분양가격'] = pd.to_numeric(pre_sale_price, errors='coerce')\n",
    "\n",
    "# 평당 분양가격\n",
    "pre_sale['평당분양가격']=pre_sale['분양가격'] * 3.3"
   ]
  },
  {
   "cell_type": "code",
   "execution_count": 16,
   "metadata": {},
   "outputs": [
    {
     "name": "stdout",
     "output_type": "stream",
     "text": [
      "<class 'pandas.core.frame.DataFrame'>\n",
      "RangeIndex: 2890 entries, 0 to 2889\n",
      "Data columns (total 7 columns):\n",
      "지역명        2890 non-null object\n",
      "규모구분       2890 non-null object\n",
      "연도         2890 non-null object\n",
      "월          2890 non-null object\n",
      "분양가격(㎡)    2750 non-null object\n",
      "분양가격       2658 non-null float64\n",
      "평당분양가격     2658 non-null float64\n",
      "dtypes: float64(2), object(5)\n",
      "memory usage: 158.2+ KB\n"
     ]
    }
   ],
   "source": [
    "pre_sale.info()"
   ]
  },
  {
   "cell_type": "code",
   "execution_count": 17,
   "metadata": {},
   "outputs": [
    {
     "data": {
      "text/plain": [
       "지역명          0\n",
       "규모구분         0\n",
       "연도           0\n",
       "월            0\n",
       "분양가격(㎡)    140\n",
       "분양가격       232\n",
       "평당분양가격     232\n",
       "dtype: int64"
      ]
     },
     "execution_count": 17,
     "metadata": {},
     "output_type": "execute_result"
    }
   ],
   "source": [
    "# 분양 가격의 결측치 확인\n",
    "pre_sale.isnull().sum()"
   ]
  },
  {
   "cell_type": "code",
   "execution_count": 18,
   "metadata": {},
   "outputs": [
    {
     "data": {
      "text/html": [
       "<div>\n",
       "<style scoped>\n",
       "    .dataframe tbody tr th:only-of-type {\n",
       "        vertical-align: middle;\n",
       "    }\n",
       "\n",
       "    .dataframe tbody tr th {\n",
       "        vertical-align: top;\n",
       "    }\n",
       "\n",
       "    .dataframe thead th {\n",
       "        text-align: right;\n",
       "    }\n",
       "</style>\n",
       "<table border=\"1\" class=\"dataframe\">\n",
       "  <thead>\n",
       "    <tr style=\"text-align: right;\">\n",
       "      <th></th>\n",
       "      <th>분양가격</th>\n",
       "      <th>평당분양가격</th>\n",
       "    </tr>\n",
       "  </thead>\n",
       "  <tbody>\n",
       "    <tr>\n",
       "      <th>count</th>\n",
       "      <td>2658.000000</td>\n",
       "      <td>2658.000000</td>\n",
       "    </tr>\n",
       "    <tr>\n",
       "      <th>mean</th>\n",
       "      <td>3063.297216</td>\n",
       "      <td>10108.880813</td>\n",
       "    </tr>\n",
       "    <tr>\n",
       "      <th>std</th>\n",
       "      <td>1112.743769</td>\n",
       "      <td>3672.054436</td>\n",
       "    </tr>\n",
       "    <tr>\n",
       "      <th>min</th>\n",
       "      <td>1868.000000</td>\n",
       "      <td>6164.400000</td>\n",
       "    </tr>\n",
       "    <tr>\n",
       "      <th>25%</th>\n",
       "      <td>2348.000000</td>\n",
       "      <td>7748.400000</td>\n",
       "    </tr>\n",
       "    <tr>\n",
       "      <th>50%</th>\n",
       "      <td>2743.000000</td>\n",
       "      <td>9051.900000</td>\n",
       "    </tr>\n",
       "    <tr>\n",
       "      <th>75%</th>\n",
       "      <td>3293.750000</td>\n",
       "      <td>10869.375000</td>\n",
       "    </tr>\n",
       "    <tr>\n",
       "      <th>max</th>\n",
       "      <td>8098.000000</td>\n",
       "      <td>26723.400000</td>\n",
       "    </tr>\n",
       "  </tbody>\n",
       "</table>\n",
       "</div>"
      ],
      "text/plain": [
       "              분양가격        평당분양가격\n",
       "count  2658.000000   2658.000000\n",
       "mean   3063.297216  10108.880813\n",
       "std    1112.743769   3672.054436\n",
       "min    1868.000000   6164.400000\n",
       "25%    2348.000000   7748.400000\n",
       "50%    2743.000000   9051.900000\n",
       "75%    3293.750000  10869.375000\n",
       "max    8098.000000  26723.400000"
      ]
     },
     "execution_count": 18,
     "metadata": {},
     "output_type": "execute_result"
    }
   ],
   "source": [
    "# 데이터 요약\n",
    "pre_sale.describe()"
   ]
  },
  {
   "cell_type": "code",
   "execution_count": 19,
   "metadata": {},
   "outputs": [
    {
     "data": {
      "text/html": [
       "<div>\n",
       "<style scoped>\n",
       "    .dataframe tbody tr th:only-of-type {\n",
       "        vertical-align: middle;\n",
       "    }\n",
       "\n",
       "    .dataframe tbody tr th {\n",
       "        vertical-align: top;\n",
       "    }\n",
       "\n",
       "    .dataframe thead th {\n",
       "        text-align: right;\n",
       "    }\n",
       "</style>\n",
       "<table border=\"1\" class=\"dataframe\">\n",
       "  <thead>\n",
       "    <tr style=\"text-align: right;\">\n",
       "      <th></th>\n",
       "      <th>지역명</th>\n",
       "      <th>규모구분</th>\n",
       "      <th>연도</th>\n",
       "      <th>월</th>\n",
       "      <th>분양가격(㎡)</th>\n",
       "    </tr>\n",
       "  </thead>\n",
       "  <tbody>\n",
       "    <tr>\n",
       "      <th>count</th>\n",
       "      <td>2890</td>\n",
       "      <td>2890</td>\n",
       "      <td>2890</td>\n",
       "      <td>2890</td>\n",
       "      <td>2750</td>\n",
       "    </tr>\n",
       "    <tr>\n",
       "      <th>unique</th>\n",
       "      <td>17</td>\n",
       "      <td>5</td>\n",
       "      <td>4</td>\n",
       "      <td>12</td>\n",
       "      <td>1305</td>\n",
       "    </tr>\n",
       "    <tr>\n",
       "      <th>top</th>\n",
       "      <td>경남</td>\n",
       "      <td>전용면적 60㎡이하</td>\n",
       "      <td>2017</td>\n",
       "      <td>6</td>\n",
       "      <td>2221</td>\n",
       "    </tr>\n",
       "    <tr>\n",
       "      <th>freq</th>\n",
       "      <td>170</td>\n",
       "      <td>578</td>\n",
       "      <td>1020</td>\n",
       "      <td>255</td>\n",
       "      <td>17</td>\n",
       "    </tr>\n",
       "  </tbody>\n",
       "</table>\n",
       "</div>"
      ],
      "text/plain": [
       "         지역명        규모구분    연도     월 분양가격(㎡)\n",
       "count   2890        2890  2890  2890    2750\n",
       "unique    17           5     4    12    1305\n",
       "top       경남  전용면적 60㎡이하  2017     6    2221\n",
       "freq     170         578  1020   255      17"
      ]
     },
     "execution_count": 19,
     "metadata": {},
     "output_type": "execute_result"
    }
   ],
   "source": [
    "# object type 요약\n",
    "pre_sale.describe(include=[np.object])"
   ]
  },
  {
   "cell_type": "code",
   "execution_count": 20,
   "metadata": {},
   "outputs": [],
   "source": [
    "# 2017년 데이터만 불러오기\n",
    "pre_sale_2017 = pre_sale.loc[pre_sale['연도']=='2017']"
   ]
  },
  {
   "cell_type": "code",
   "execution_count": 21,
   "metadata": {},
   "outputs": [
    {
     "data": {
      "text/plain": [
       "경남    170\n",
       "광주    170\n",
       "경북    170\n",
       "서울    170\n",
       "전북    170\n",
       "전남    170\n",
       "대전    170\n",
       "인천    170\n",
       "울산    170\n",
       "세종    170\n",
       "대구    170\n",
       "부산    170\n",
       "경기    170\n",
       "충북    170\n",
       "제주    170\n",
       "강원    170\n",
       "충남    170\n",
       "Name: 지역명, dtype: int64"
      ]
     },
     "execution_count": 21,
     "metadata": {},
     "output_type": "execute_result"
    }
   ],
   "source": [
    "pre_sale['지역명'].value_counts()"
   ]
  },
  {
   "cell_type": "markdown",
   "metadata": {},
   "source": [
    "## 전국평균 분양가격\n",
    "\n",
    "* group by와 pivot_table활용하기"
   ]
  },
  {
   "cell_type": "code",
   "execution_count": 22,
   "metadata": {},
   "outputs": [
    {
     "data": {
      "text/html": [
       "<div>\n",
       "<style scoped>\n",
       "    .dataframe tbody tr th:only-of-type {\n",
       "        vertical-align: middle;\n",
       "    }\n",
       "\n",
       "    .dataframe tbody tr th {\n",
       "        vertical-align: top;\n",
       "    }\n",
       "\n",
       "    .dataframe thead th {\n",
       "        text-align: right;\n",
       "    }\n",
       "</style>\n",
       "<table border=\"1\" class=\"dataframe\">\n",
       "  <thead>\n",
       "    <tr style=\"text-align: right;\">\n",
       "      <th></th>\n",
       "      <th>연도</th>\n",
       "      <th>2015</th>\n",
       "      <th>2016</th>\n",
       "      <th>2017</th>\n",
       "      <th>2018</th>\n",
       "    </tr>\n",
       "  </thead>\n",
       "  <tbody>\n",
       "    <tr>\n",
       "      <th rowspan=\"8\" valign=\"top\">분양가격</th>\n",
       "      <th>count</th>\n",
       "      <td>243</td>\n",
       "      <td>984</td>\n",
       "      <td>899</td>\n",
       "      <td>532</td>\n",
       "    </tr>\n",
       "    <tr>\n",
       "      <th>mean</th>\n",
       "      <td>2,789</td>\n",
       "      <td>2,934</td>\n",
       "      <td>3,140</td>\n",
       "      <td>3,299</td>\n",
       "    </tr>\n",
       "    <tr>\n",
       "      <th>std</th>\n",
       "      <td>977</td>\n",
       "      <td>1,071</td>\n",
       "      <td>1,108</td>\n",
       "      <td>1,196</td>\n",
       "    </tr>\n",
       "    <tr>\n",
       "      <th>min</th>\n",
       "      <td>1,868</td>\n",
       "      <td>1,900</td>\n",
       "      <td>1,976</td>\n",
       "      <td>2,076</td>\n",
       "    </tr>\n",
       "    <tr>\n",
       "      <th>25%</th>\n",
       "      <td>2,225</td>\n",
       "      <td>2,282</td>\n",
       "      <td>2,365</td>\n",
       "      <td>2,471</td>\n",
       "    </tr>\n",
       "    <tr>\n",
       "      <th>50%</th>\n",
       "      <td>2,516</td>\n",
       "      <td>2,672</td>\n",
       "      <td>2,849</td>\n",
       "      <td>2,914</td>\n",
       "    </tr>\n",
       "    <tr>\n",
       "      <th>75%</th>\n",
       "      <td>3,026</td>\n",
       "      <td>3,148</td>\n",
       "      <td>3,456</td>\n",
       "      <td>3,647</td>\n",
       "    </tr>\n",
       "    <tr>\n",
       "      <th>max</th>\n",
       "      <td>7,092</td>\n",
       "      <td>8,096</td>\n",
       "      <td>7,887</td>\n",
       "      <td>8,098</td>\n",
       "    </tr>\n",
       "    <tr>\n",
       "      <th rowspan=\"8\" valign=\"top\">평당분양가격</th>\n",
       "      <th>count</th>\n",
       "      <td>243</td>\n",
       "      <td>984</td>\n",
       "      <td>899</td>\n",
       "      <td>532</td>\n",
       "    </tr>\n",
       "    <tr>\n",
       "      <th>mean</th>\n",
       "      <td>9,203</td>\n",
       "      <td>9,683</td>\n",
       "      <td>10,360</td>\n",
       "      <td>10,885</td>\n",
       "    </tr>\n",
       "    <tr>\n",
       "      <th>std</th>\n",
       "      <td>3,224</td>\n",
       "      <td>3,536</td>\n",
       "      <td>3,655</td>\n",
       "      <td>3,947</td>\n",
       "    </tr>\n",
       "    <tr>\n",
       "      <th>min</th>\n",
       "      <td>6,164</td>\n",
       "      <td>6,270</td>\n",
       "      <td>6,521</td>\n",
       "      <td>6,851</td>\n",
       "    </tr>\n",
       "    <tr>\n",
       "      <th>25%</th>\n",
       "      <td>7,342</td>\n",
       "      <td>7,531</td>\n",
       "      <td>7,804</td>\n",
       "      <td>8,154</td>\n",
       "    </tr>\n",
       "    <tr>\n",
       "      <th>50%</th>\n",
       "      <td>8,303</td>\n",
       "      <td>8,818</td>\n",
       "      <td>9,402</td>\n",
       "      <td>9,616</td>\n",
       "    </tr>\n",
       "    <tr>\n",
       "      <th>75%</th>\n",
       "      <td>9,984</td>\n",
       "      <td>10,390</td>\n",
       "      <td>11,405</td>\n",
       "      <td>12,036</td>\n",
       "    </tr>\n",
       "    <tr>\n",
       "      <th>max</th>\n",
       "      <td>23,404</td>\n",
       "      <td>26,717</td>\n",
       "      <td>26,027</td>\n",
       "      <td>26,723</td>\n",
       "    </tr>\n",
       "  </tbody>\n",
       "</table>\n",
       "</div>"
      ],
      "text/plain": [
       "연도             2015   2016   2017   2018\n",
       "분양가격   count    243    984    899    532\n",
       "       mean   2,789  2,934  3,140  3,299\n",
       "       std      977  1,071  1,108  1,196\n",
       "       min    1,868  1,900  1,976  2,076\n",
       "       25%    2,225  2,282  2,365  2,471\n",
       "       50%    2,516  2,672  2,849  2,914\n",
       "       75%    3,026  3,148  3,456  3,647\n",
       "       max    7,092  8,096  7,887  8,098\n",
       "평당분양가격 count    243    984    899    532\n",
       "       mean   9,203  9,683 10,360 10,885\n",
       "       std    3,224  3,536  3,655  3,947\n",
       "       min    6,164  6,270  6,521  6,851\n",
       "       25%    7,342  7,531  7,804  8,154\n",
       "       50%    8,303  8,818  9,402  9,616\n",
       "       75%    9,984 10,390 11,405 12,036\n",
       "       max   23,404 26,717 26,027 26,723"
      ]
     },
     "execution_count": 22,
     "metadata": {},
     "output_type": "execute_result"
    }
   ],
   "source": [
    "pd.options.display.float_format = '{:,.0f}'.format\n",
    "pre_sale.groupby(pre_sale.연도).describe().T"
   ]
  },
  {
   "cell_type": "markdown",
   "metadata": {},
   "source": [
    "### 규모별 전국 평균 분양가격"
   ]
  },
  {
   "cell_type": "code",
   "execution_count": 23,
   "metadata": {},
   "outputs": [
    {
     "data": {
      "text/html": [
       "<div>\n",
       "<style scoped>\n",
       "    .dataframe tbody tr th:only-of-type {\n",
       "        vertical-align: middle;\n",
       "    }\n",
       "\n",
       "    .dataframe tbody tr th {\n",
       "        vertical-align: top;\n",
       "    }\n",
       "\n",
       "    .dataframe thead th {\n",
       "        text-align: right;\n",
       "    }\n",
       "</style>\n",
       "<table border=\"1\" class=\"dataframe\">\n",
       "  <thead>\n",
       "    <tr style=\"text-align: right;\">\n",
       "      <th>연도</th>\n",
       "      <th>2015</th>\n",
       "      <th>2016</th>\n",
       "      <th>2017</th>\n",
       "      <th>2018</th>\n",
       "    </tr>\n",
       "    <tr>\n",
       "      <th>규모구분</th>\n",
       "      <th></th>\n",
       "      <th></th>\n",
       "      <th></th>\n",
       "      <th></th>\n",
       "    </tr>\n",
       "  </thead>\n",
       "  <tbody>\n",
       "    <tr>\n",
       "      <th>전용면적 102㎡초과</th>\n",
       "      <td>9,837</td>\n",
       "      <td>10,389</td>\n",
       "      <td>11,334</td>\n",
       "      <td>11,235</td>\n",
       "    </tr>\n",
       "    <tr>\n",
       "      <th>전용면적 60㎡이하</th>\n",
       "      <td>8,952</td>\n",
       "      <td>9,399</td>\n",
       "      <td>10,246</td>\n",
       "      <td>10,912</td>\n",
       "    </tr>\n",
       "    <tr>\n",
       "      <th>전용면적 60㎡초과 85㎡이하</th>\n",
       "      <td>8,892</td>\n",
       "      <td>9,296</td>\n",
       "      <td>9,825</td>\n",
       "      <td>10,464</td>\n",
       "    </tr>\n",
       "    <tr>\n",
       "      <th>전용면적 85㎡초과 102㎡이하</th>\n",
       "      <td>9,519</td>\n",
       "      <td>10,122</td>\n",
       "      <td>10,540</td>\n",
       "      <td>11,483</td>\n",
       "    </tr>\n",
       "    <tr>\n",
       "      <th>전체</th>\n",
       "      <td>8,893</td>\n",
       "      <td>9,293</td>\n",
       "      <td>9,901</td>\n",
       "      <td>10,563</td>\n",
       "    </tr>\n",
       "  </tbody>\n",
       "</table>\n",
       "</div>"
      ],
      "text/plain": [
       "연도                 2015   2016   2017   2018\n",
       "규모구분                                        \n",
       "전용면적 102㎡초과       9,837 10,389 11,334 11,235\n",
       "전용면적 60㎡이하        8,952  9,399 10,246 10,912\n",
       "전용면적 60㎡초과 85㎡이하  8,892  9,296  9,825 10,464\n",
       "전용면적 85㎡초과 102㎡이하 9,519 10,122 10,540 11,483\n",
       "전체                8,893  9,293  9,901 10,563"
      ]
     },
     "execution_count": 23,
     "metadata": {},
     "output_type": "execute_result"
    }
   ],
   "source": [
    "pre_sale.pivot_table(values='평당분양가격', index='규모구분', columns='연도')\n",
    "\n",
    "# 따로 prameter를 지정하지 않아도 가능"
   ]
  },
  {
   "cell_type": "markdown",
   "metadata": {},
   "source": [
    " ### 전국 분양가 변동금액\n",
    " \n",
    " 규모 구분이 전체로 되어있는 금액으로 연도별 변동금액을 살펴본다."
   ]
  },
  {
   "cell_type": "code",
   "execution_count": 24,
   "metadata": {},
   "outputs": [
    {
     "data": {
      "text/html": [
       "<div>\n",
       "<style scoped>\n",
       "    .dataframe tbody tr th:only-of-type {\n",
       "        vertical-align: middle;\n",
       "    }\n",
       "\n",
       "    .dataframe tbody tr th {\n",
       "        vertical-align: top;\n",
       "    }\n",
       "\n",
       "    .dataframe thead th {\n",
       "        text-align: right;\n",
       "    }\n",
       "</style>\n",
       "<table border=\"1\" class=\"dataframe\">\n",
       "  <thead>\n",
       "    <tr style=\"text-align: right;\">\n",
       "      <th>연도</th>\n",
       "      <th>지역명</th>\n",
       "      <th>2015</th>\n",
       "      <th>2016</th>\n",
       "      <th>2017</th>\n",
       "      <th>2018</th>\n",
       "    </tr>\n",
       "  </thead>\n",
       "  <tbody>\n",
       "    <tr>\n",
       "      <th>0</th>\n",
       "      <td>강원</td>\n",
       "      <td>7,160</td>\n",
       "      <td>7,011</td>\n",
       "      <td>7,127</td>\n",
       "      <td>7,641</td>\n",
       "    </tr>\n",
       "    <tr>\n",
       "      <th>1</th>\n",
       "      <td>경기</td>\n",
       "      <td>10,377</td>\n",
       "      <td>11,220</td>\n",
       "      <td>11,850</td>\n",
       "      <td>12,881</td>\n",
       "    </tr>\n",
       "    <tr>\n",
       "      <th>2</th>\n",
       "      <td>경남</td>\n",
       "      <td>7,586</td>\n",
       "      <td>7,848</td>\n",
       "      <td>8,120</td>\n",
       "      <td>8,894</td>\n",
       "    </tr>\n",
       "    <tr>\n",
       "      <th>3</th>\n",
       "      <td>경북</td>\n",
       "      <td>7,171</td>\n",
       "      <td>7,361</td>\n",
       "      <td>7,795</td>\n",
       "      <td>8,342</td>\n",
       "    </tr>\n",
       "    <tr>\n",
       "      <th>4</th>\n",
       "      <td>광주</td>\n",
       "      <td>8,052</td>\n",
       "      <td>8,899</td>\n",
       "      <td>9,464</td>\n",
       "      <td>9,638</td>\n",
       "    </tr>\n",
       "    <tr>\n",
       "      <th>5</th>\n",
       "      <td>대구</td>\n",
       "      <td>9,232</td>\n",
       "      <td>10,310</td>\n",
       "      <td>11,456</td>\n",
       "      <td>11,737</td>\n",
       "    </tr>\n",
       "    <tr>\n",
       "      <th>6</th>\n",
       "      <td>대전</td>\n",
       "      <td>8,098</td>\n",
       "      <td>8,502</td>\n",
       "      <td>9,045</td>\n",
       "      <td>9,604</td>\n",
       "    </tr>\n",
       "    <tr>\n",
       "      <th>7</th>\n",
       "      <td>부산</td>\n",
       "      <td>10,307</td>\n",
       "      <td>10,430</td>\n",
       "      <td>11,578</td>\n",
       "      <td>12,756</td>\n",
       "    </tr>\n",
       "    <tr>\n",
       "      <th>8</th>\n",
       "      <td>서울</td>\n",
       "      <td>19,725</td>\n",
       "      <td>20,663</td>\n",
       "      <td>21,376</td>\n",
       "      <td>22,329</td>\n",
       "    </tr>\n",
       "    <tr>\n",
       "      <th>9</th>\n",
       "      <td>세종</td>\n",
       "      <td>8,750</td>\n",
       "      <td>8,860</td>\n",
       "      <td>9,135</td>\n",
       "      <td>10,375</td>\n",
       "    </tr>\n",
       "    <tr>\n",
       "      <th>10</th>\n",
       "      <td>울산</td>\n",
       "      <td>10,053</td>\n",
       "      <td>10,209</td>\n",
       "      <td>11,345</td>\n",
       "      <td>10,422</td>\n",
       "    </tr>\n",
       "    <tr>\n",
       "      <th>11</th>\n",
       "      <td>인천</td>\n",
       "      <td>10,484</td>\n",
       "      <td>10,532</td>\n",
       "      <td>10,737</td>\n",
       "      <td>11,205</td>\n",
       "    </tr>\n",
       "    <tr>\n",
       "      <th>12</th>\n",
       "      <td>전남</td>\n",
       "      <td>6,317</td>\n",
       "      <td>6,489</td>\n",
       "      <td>7,188</td>\n",
       "      <td>7,792</td>\n",
       "    </tr>\n",
       "    <tr>\n",
       "      <th>13</th>\n",
       "      <td>전북</td>\n",
       "      <td>6,703</td>\n",
       "      <td>6,418</td>\n",
       "      <td>7,058</td>\n",
       "      <td>7,573</td>\n",
       "    </tr>\n",
       "    <tr>\n",
       "      <th>14</th>\n",
       "      <td>제주</td>\n",
       "      <td>7,405</td>\n",
       "      <td>9,129</td>\n",
       "      <td>10,831</td>\n",
       "      <td>12,492</td>\n",
       "    </tr>\n",
       "    <tr>\n",
       "      <th>15</th>\n",
       "      <td>충남</td>\n",
       "      <td>7,115</td>\n",
       "      <td>7,331</td>\n",
       "      <td>7,456</td>\n",
       "      <td>7,997</td>\n",
       "    </tr>\n",
       "    <tr>\n",
       "      <th>16</th>\n",
       "      <td>충북</td>\n",
       "      <td>6,645</td>\n",
       "      <td>6,770</td>\n",
       "      <td>6,763</td>\n",
       "      <td>7,892</td>\n",
       "    </tr>\n",
       "  </tbody>\n",
       "</table>\n",
       "</div>"
      ],
      "text/plain": [
       "연도 지역명   2015   2016   2017   2018\n",
       "0   강원  7,160  7,011  7,127  7,641\n",
       "1   경기 10,377 11,220 11,850 12,881\n",
       "2   경남  7,586  7,848  8,120  8,894\n",
       "3   경북  7,171  7,361  7,795  8,342\n",
       "4   광주  8,052  8,899  9,464  9,638\n",
       "5   대구  9,232 10,310 11,456 11,737\n",
       "6   대전  8,098  8,502  9,045  9,604\n",
       "7   부산 10,307 10,430 11,578 12,756\n",
       "8   서울 19,725 20,663 21,376 22,329\n",
       "9   세종  8,750  8,860  9,135 10,375\n",
       "10  울산 10,053 10,209 11,345 10,422\n",
       "11  인천 10,484 10,532 10,737 11,205\n",
       "12  전남  6,317  6,489  7,188  7,792\n",
       "13  전북  6,703  6,418  7,058  7,573\n",
       "14  제주  7,405  9,129 10,831 12,492\n",
       "15  충남  7,115  7,331  7,456  7,997\n",
       "16  충북  6,645  6,770  6,763  7,892"
      ]
     },
     "execution_count": 24,
     "metadata": {},
     "output_type": "execute_result"
    }
   ],
   "source": [
    "# 규모구분에서 전체로 되어 있는 데이터만 가져온다\n",
    "region_year_all = pre_sale.loc[pre_sale['규모구분'] == '전체']\n",
    "region_year = region_year_all.pivot_table('평당분양가격', '지역명', '연도').reset_index()\n",
    "region_year"
   ]
  },
  {
   "cell_type": "markdown",
   "metadata": {},
   "source": [
    "reset_index를 하는 이유는 pivot_table을 그렸을 때 row가 2개 생성되기 때문에 데이터 분석때 편하게 하기 위해 연도를 맨 앞으로 보내 row를 1개로 바꾼다."
   ]
  },
  {
   "cell_type": "code",
   "execution_count": 25,
   "metadata": {},
   "outputs": [
    {
     "name": "stdout",
     "output_type": "stream",
     "text": [
      "2015년부터 2018년까지 분양가는 계속 상승했으며, 상승액이 가장 큰 지역은 제주이며, 상승액은 평당 5,087,000원이다.\n",
      "상승액이 가장 작은 지역은 울산이며 평당 369,000원 이다.\n",
      "전국 평균 변동액은 평당 1,669,588원 이다.\n"
     ]
    }
   ],
   "source": [
    "region_year['변동액'] = (region_year['2018']-region_year['2015']).astype(int)\n",
    "max_delta_price = np.max(region_year['변동액'])*1000\n",
    "min_delta_price = np.min(region_year['변동액'])*1000\n",
    "mean_delta_price = np.mean(region_year['변동액'])*1000\n",
    "\n",
    "print('2015년부터 2018년까지 분양가는 계속 상승했으며, 상승액이 가장 큰 지역은 제주이며, 상승액은 평당 {:,.0f}원이다.'.format(max_delta_price))\n",
    "print('상승액이 가장 작은 지역은 울산이며 평당 {:,.0f}원 이다.'.format(min_delta_price))\n",
    "print('전국 평균 변동액은 평당 {:,.0f}원 이다.'.format(mean_delta_price))"
   ]
  },
  {
   "cell_type": "code",
   "execution_count": 26,
   "metadata": {},
   "outputs": [
    {
     "data": {
      "text/html": [
       "<div>\n",
       "<style scoped>\n",
       "    .dataframe tbody tr th:only-of-type {\n",
       "        vertical-align: middle;\n",
       "    }\n",
       "\n",
       "    .dataframe tbody tr th {\n",
       "        vertical-align: top;\n",
       "    }\n",
       "\n",
       "    .dataframe thead th {\n",
       "        text-align: right;\n",
       "    }\n",
       "</style>\n",
       "<table border=\"1\" class=\"dataframe\">\n",
       "  <thead>\n",
       "    <tr style=\"text-align: right;\">\n",
       "      <th>연도</th>\n",
       "      <th>지역명</th>\n",
       "      <th>2015</th>\n",
       "      <th>2016</th>\n",
       "      <th>2017</th>\n",
       "      <th>2018</th>\n",
       "      <th>변동액</th>\n",
       "    </tr>\n",
       "  </thead>\n",
       "  <tbody>\n",
       "    <tr>\n",
       "      <th>0</th>\n",
       "      <td>강원</td>\n",
       "      <td>7,160</td>\n",
       "      <td>7,011</td>\n",
       "      <td>7,127</td>\n",
       "      <td>7,641</td>\n",
       "      <td>481</td>\n",
       "    </tr>\n",
       "    <tr>\n",
       "      <th>1</th>\n",
       "      <td>경기</td>\n",
       "      <td>10,377</td>\n",
       "      <td>11,220</td>\n",
       "      <td>11,850</td>\n",
       "      <td>12,881</td>\n",
       "      <td>2503</td>\n",
       "    </tr>\n",
       "    <tr>\n",
       "      <th>2</th>\n",
       "      <td>경남</td>\n",
       "      <td>7,586</td>\n",
       "      <td>7,848</td>\n",
       "      <td>8,120</td>\n",
       "      <td>8,894</td>\n",
       "      <td>1308</td>\n",
       "    </tr>\n",
       "    <tr>\n",
       "      <th>3</th>\n",
       "      <td>경북</td>\n",
       "      <td>7,171</td>\n",
       "      <td>7,361</td>\n",
       "      <td>7,795</td>\n",
       "      <td>8,342</td>\n",
       "      <td>1171</td>\n",
       "    </tr>\n",
       "    <tr>\n",
       "      <th>4</th>\n",
       "      <td>광주</td>\n",
       "      <td>8,052</td>\n",
       "      <td>8,899</td>\n",
       "      <td>9,464</td>\n",
       "      <td>9,638</td>\n",
       "      <td>1585</td>\n",
       "    </tr>\n",
       "    <tr>\n",
       "      <th>5</th>\n",
       "      <td>대구</td>\n",
       "      <td>9,232</td>\n",
       "      <td>10,310</td>\n",
       "      <td>11,456</td>\n",
       "      <td>11,737</td>\n",
       "      <td>2504</td>\n",
       "    </tr>\n",
       "    <tr>\n",
       "      <th>6</th>\n",
       "      <td>대전</td>\n",
       "      <td>8,098</td>\n",
       "      <td>8,502</td>\n",
       "      <td>9,045</td>\n",
       "      <td>9,604</td>\n",
       "      <td>1506</td>\n",
       "    </tr>\n",
       "    <tr>\n",
       "      <th>7</th>\n",
       "      <td>부산</td>\n",
       "      <td>10,307</td>\n",
       "      <td>10,430</td>\n",
       "      <td>11,578</td>\n",
       "      <td>12,756</td>\n",
       "      <td>2449</td>\n",
       "    </tr>\n",
       "    <tr>\n",
       "      <th>8</th>\n",
       "      <td>서울</td>\n",
       "      <td>19,725</td>\n",
       "      <td>20,663</td>\n",
       "      <td>21,376</td>\n",
       "      <td>22,329</td>\n",
       "      <td>2603</td>\n",
       "    </tr>\n",
       "    <tr>\n",
       "      <th>9</th>\n",
       "      <td>세종</td>\n",
       "      <td>8,750</td>\n",
       "      <td>8,860</td>\n",
       "      <td>9,135</td>\n",
       "      <td>10,375</td>\n",
       "      <td>1624</td>\n",
       "    </tr>\n",
       "    <tr>\n",
       "      <th>10</th>\n",
       "      <td>울산</td>\n",
       "      <td>10,053</td>\n",
       "      <td>10,209</td>\n",
       "      <td>11,345</td>\n",
       "      <td>10,422</td>\n",
       "      <td>369</td>\n",
       "    </tr>\n",
       "    <tr>\n",
       "      <th>11</th>\n",
       "      <td>인천</td>\n",
       "      <td>10,484</td>\n",
       "      <td>10,532</td>\n",
       "      <td>10,737</td>\n",
       "      <td>11,205</td>\n",
       "      <td>721</td>\n",
       "    </tr>\n",
       "    <tr>\n",
       "      <th>12</th>\n",
       "      <td>전남</td>\n",
       "      <td>6,317</td>\n",
       "      <td>6,489</td>\n",
       "      <td>7,188</td>\n",
       "      <td>7,792</td>\n",
       "      <td>1474</td>\n",
       "    </tr>\n",
       "    <tr>\n",
       "      <th>13</th>\n",
       "      <td>전북</td>\n",
       "      <td>6,703</td>\n",
       "      <td>6,418</td>\n",
       "      <td>7,058</td>\n",
       "      <td>7,573</td>\n",
       "      <td>869</td>\n",
       "    </tr>\n",
       "    <tr>\n",
       "      <th>14</th>\n",
       "      <td>제주</td>\n",
       "      <td>7,405</td>\n",
       "      <td>9,129</td>\n",
       "      <td>10,831</td>\n",
       "      <td>12,492</td>\n",
       "      <td>5087</td>\n",
       "    </tr>\n",
       "    <tr>\n",
       "      <th>15</th>\n",
       "      <td>충남</td>\n",
       "      <td>7,115</td>\n",
       "      <td>7,331</td>\n",
       "      <td>7,456</td>\n",
       "      <td>7,997</td>\n",
       "      <td>882</td>\n",
       "    </tr>\n",
       "    <tr>\n",
       "      <th>16</th>\n",
       "      <td>충북</td>\n",
       "      <td>6,645</td>\n",
       "      <td>6,770</td>\n",
       "      <td>6,763</td>\n",
       "      <td>7,892</td>\n",
       "      <td>1247</td>\n",
       "    </tr>\n",
       "  </tbody>\n",
       "</table>\n",
       "</div>"
      ],
      "text/plain": [
       "연도 지역명   2015   2016   2017   2018   변동액\n",
       "0   강원  7,160  7,011  7,127  7,641   481\n",
       "1   경기 10,377 11,220 11,850 12,881  2503\n",
       "2   경남  7,586  7,848  8,120  8,894  1308\n",
       "3   경북  7,171  7,361  7,795  8,342  1171\n",
       "4   광주  8,052  8,899  9,464  9,638  1585\n",
       "5   대구  9,232 10,310 11,456 11,737  2504\n",
       "6   대전  8,098  8,502  9,045  9,604  1506\n",
       "7   부산 10,307 10,430 11,578 12,756  2449\n",
       "8   서울 19,725 20,663 21,376 22,329  2603\n",
       "9   세종  8,750  8,860  9,135 10,375  1624\n",
       "10  울산 10,053 10,209 11,345 10,422   369\n",
       "11  인천 10,484 10,532 10,737 11,205   721\n",
       "12  전남  6,317  6,489  7,188  7,792  1474\n",
       "13  전북  6,703  6,418  7,058  7,573   869\n",
       "14  제주  7,405  9,129 10,831 12,492  5087\n",
       "15  충남  7,115  7,331  7,456  7,997   882\n",
       "16  충북  6,645  6,770  6,763  7,892  1247"
      ]
     },
     "execution_count": 26,
     "metadata": {},
     "output_type": "execute_result"
    }
   ],
   "source": [
    "region_year"
   ]
  },
  {
   "cell_type": "markdown",
   "metadata": {},
   "source": [
    "## 시각화\n",
    "\n",
    "### 연도별 변동 그래프"
   ]
  },
  {
   "cell_type": "code",
   "execution_count": 27,
   "metadata": {},
   "outputs": [],
   "source": [
    "import seaborn as sns\n",
    "import matplotlib.pyplot as plt\n",
    "\n",
    "sns.set_style(\"whitegrid\")\n",
    "plt.rc('font',family='NanumGothic')"
   ]
  },
  {
   "cell_type": "code",
   "execution_count": 28,
   "metadata": {},
   "outputs": [
    {
     "data": {
      "image/png": "[encoded data removed]",
      "text/plain": [
       "<Figure size 800x400 with 1 Axes>"
      ]
     },
     "metadata": {},
     "output_type": "display_data"
    },
    {
     "data": {
      "text/plain": [
       "<ggplot: (141942076771)>"
      ]
     },
     "execution_count": 28,
     "metadata": {},
     "output_type": "execute_result"
    }
   ],
   "source": [
    "(ggplot(region_year_all, aes(x='지역명', y='평당분양가격', fill='연도'))\n",
    " + geom_bar(stat='identity', position='dodge')\n",
    " + ggtitle('2015-2018년 신규 민간 아파트 분양가격')\n",
    " + theme(text=element_text(family='NanumGothic'),\n",
    "         figure_size=(8, 4))\n",
    ")"
   ]
  },
  {
   "cell_type": "markdown",
   "metadata": {},
   "source": [
    "#### seborn으로 막대그래프 그리기\n"
   ]
  },
  {
   "cell_type": "code",
   "execution_count": 29,
   "metadata": {},
   "outputs": [
    {
     "data": {
      "text/plain": [
       "<matplotlib.axes._subplots.AxesSubplot at 0x210c6867400>"
      ]
     },
     "execution_count": 29,
     "metadata": {},
     "output_type": "execute_result"
    },
    {
     "data": {
      "image/png": "[encoded data removed]",
      "text/plain": [
       "<Figure size 1440x576 with 1 Axes>"
      ]
     },
     "metadata": {},
     "output_type": "display_data"
    }
   ],
   "source": [
    "plt.figure(figsize=(20,8))\n",
    "plt.title('2015-2018년 신규 민간 아파트 분양가격')\n",
    "sns.barplot(data=region_year_all, x = '지역명', y = '평당분양가격', hue='연도')"
   ]
  },
  {
   "cell_type": "markdown",
   "metadata": {},
   "source": [
    "#### pandas로 막대그래프 그리기"
   ]
  },
  {
   "cell_type": "code",
   "execution_count": 30,
   "metadata": {},
   "outputs": [
    {
     "data": {
      "text/html": [
       "<div>\n",
       "<style scoped>\n",
       "    .dataframe tbody tr th:only-of-type {\n",
       "        vertical-align: middle;\n",
       "    }\n",
       "\n",
       "    .dataframe tbody tr th {\n",
       "        vertical-align: top;\n",
       "    }\n",
       "\n",
       "    .dataframe thead th {\n",
       "        text-align: right;\n",
       "    }\n",
       "</style>\n",
       "<table border=\"1\" class=\"dataframe\">\n",
       "  <thead>\n",
       "    <tr style=\"text-align: right;\">\n",
       "      <th>연도</th>\n",
       "      <th>2015</th>\n",
       "      <th>2016</th>\n",
       "      <th>2017</th>\n",
       "      <th>2018</th>\n",
       "    </tr>\n",
       "    <tr>\n",
       "      <th>지역명</th>\n",
       "      <th></th>\n",
       "      <th></th>\n",
       "      <th></th>\n",
       "      <th></th>\n",
       "    </tr>\n",
       "  </thead>\n",
       "  <tbody>\n",
       "    <tr>\n",
       "      <th>대구</th>\n",
       "      <td>9,232</td>\n",
       "      <td>10,310</td>\n",
       "      <td>11,456</td>\n",
       "      <td>11,737</td>\n",
       "    </tr>\n",
       "    <tr>\n",
       "      <th>충남</th>\n",
       "      <td>7,115</td>\n",
       "      <td>7,331</td>\n",
       "      <td>7,456</td>\n",
       "      <td>7,997</td>\n",
       "    </tr>\n",
       "    <tr>\n",
       "      <th>광주</th>\n",
       "      <td>8,052</td>\n",
       "      <td>8,899</td>\n",
       "      <td>9,464</td>\n",
       "      <td>9,638</td>\n",
       "    </tr>\n",
       "  </tbody>\n",
       "</table>\n",
       "</div>"
      ],
      "text/plain": [
       "연도   2015   2016   2017   2018\n",
       "지역명                           \n",
       "대구  9,232 10,310 11,456 11,737\n",
       "충남  7,115  7,331  7,456  7,997\n",
       "광주  8,052  8,899  9,464  9,638"
      ]
     },
     "execution_count": 30,
     "metadata": {},
     "output_type": "execute_result"
    }
   ],
   "source": [
    "df_year_region = pd.pivot_table(region_year_all,\n",
    "                               index=['지역명'], columns='연도', values='평당분양가격')\n",
    "df_year_region.sample(3)"
   ]
  },
  {
   "cell_type": "code",
   "execution_count": 31,
   "metadata": {},
   "outputs": [
    {
     "data": {
      "text/plain": [
       "Index(['2015', '2016', '2017', '2018'], dtype='object', name='연도')"
      ]
     },
     "execution_count": 31,
     "metadata": {},
     "output_type": "execute_result"
    }
   ],
   "source": [
    "df_year_region.columns"
   ]
  },
  {
   "cell_type": "code",
   "execution_count": 32,
   "metadata": {},
   "outputs": [
    {
     "data": {
      "text/plain": [
       "<matplotlib.axes._subplots.AxesSubplot at 0x210c6f7b630>"
      ]
     },
     "execution_count": 32,
     "metadata": {},
     "output_type": "execute_result"
    },
    {
     "data": {
      "image/png": "[encoded data removed]",
      "text/plain": [
       "<Figure size 432x288 with 1 Axes>"
      ]
     },
     "metadata": {},
     "output_type": "display_data"
    },
    {
     "data": {
      "image/png": "[encoded data removed]",
      "text/plain": [
       "<Figure size 1728x576 with 1 Axes>"
      ]
     },
     "metadata": {},
     "output_type": "display_data"
    }
   ],
   "source": [
    "df_year_region.plot()\n",
    "# 플롯의 기본타입은 꺾은선 그래프 형태이다\n",
    "\n",
    "df_year_region.plot.bar(figsize=(24, 8), \n",
    "                        grid=True, fontsize=20, rot=0, \n",
    "                        title='지역, 연도별 평당 평균 분양가')\n",
    "# rot = 회전 각도"
   ]
  },
  {
   "cell_type": "markdown",
   "metadata": {},
   "source": [
    "### 규모별"
   ]
  },
  {
   "cell_type": "code",
   "execution_count": 33,
   "metadata": {},
   "outputs": [
    {
     "data": {
      "text/plain": [
       "<matplotlib.axes._subplots.AxesSubplot at 0x210c7068da0>"
      ]
     },
     "execution_count": 33,
     "metadata": {},
     "output_type": "execute_result"
    },
    {
     "data": {
      "image/png": "[encoded data removed]",
      "text/plain": [
       "<Figure size 1440x576 with 1 Axes>"
      ]
     },
     "metadata": {},
     "output_type": "display_data"
    }
   ],
   "source": [
    "plt.figure(figsize=(20, 8))\n",
    "sns.barplot(data=pre_sale, x='지역명', y='평당분양가격', hue='규모구분')"
   ]
  },
  {
   "cell_type": "markdown",
   "metadata": {},
   "source": [
    "### 지역별 평당 분양가격 합계"
   ]
  },
  {
   "cell_type": "code",
   "execution_count": 34,
   "metadata": {},
   "outputs": [
    {
     "data": {
      "text/html": [
       "<div>\n",
       "<style scoped>\n",
       "    .dataframe tbody tr th:only-of-type {\n",
       "        vertical-align: middle;\n",
       "    }\n",
       "\n",
       "    .dataframe tbody tr th {\n",
       "        vertical-align: top;\n",
       "    }\n",
       "\n",
       "    .dataframe thead th {\n",
       "        text-align: right;\n",
       "    }\n",
       "</style>\n",
       "<table border=\"1\" class=\"dataframe\">\n",
       "  <thead>\n",
       "    <tr style=\"text-align: right;\">\n",
       "      <th>규모구분</th>\n",
       "      <th>전용면적 102㎡초과</th>\n",
       "      <th>전용면적 60㎡이하</th>\n",
       "      <th>전용면적 60㎡초과 85㎡이하</th>\n",
       "      <th>전용면적 85㎡초과 102㎡이하</th>\n",
       "      <th>전체</th>\n",
       "    </tr>\n",
       "    <tr>\n",
       "      <th>지역명</th>\n",
       "      <th></th>\n",
       "      <th></th>\n",
       "      <th></th>\n",
       "      <th></th>\n",
       "      <th></th>\n",
       "    </tr>\n",
       "  </thead>\n",
       "  <tbody>\n",
       "    <tr>\n",
       "      <th>울산</th>\n",
       "      <td>9,974</td>\n",
       "      <td>8,965</td>\n",
       "      <td>10,641</td>\n",
       "      <td>8,861</td>\n",
       "      <td>10,619</td>\n",
       "    </tr>\n",
       "    <tr>\n",
       "      <th>광주</th>\n",
       "      <td>10,296</td>\n",
       "      <td>8,518</td>\n",
       "      <td>9,176</td>\n",
       "      <td>9,296</td>\n",
       "      <td>9,167</td>\n",
       "    </tr>\n",
       "    <tr>\n",
       "      <th>대구</th>\n",
       "      <td>12,334</td>\n",
       "      <td>11,285</td>\n",
       "      <td>10,931</td>\n",
       "      <td>9,589</td>\n",
       "      <td>10,897</td>\n",
       "    </tr>\n",
       "  </tbody>\n",
       "</table>\n",
       "</div>"
      ],
      "text/plain": [
       "규모구분  전용면적 102㎡초과  전용면적 60㎡이하  전용면적 60㎡초과 85㎡이하  전용면적 85㎡초과 102㎡이하     전체\n",
       "지역명                                                                      \n",
       "울산          9,974       8,965            10,641              8,861 10,619\n",
       "광주         10,296       8,518             9,176              9,296  9,167\n",
       "대구         12,334      11,285            10,931              9,589 10,897"
      ]
     },
     "execution_count": 34,
     "metadata": {},
     "output_type": "execute_result"
    }
   ],
   "source": [
    "pre_sale_size =  pre_sale.pivot_table(values='평당분양가격', index='지역명', columns='규모구분')\n",
    "pre_sale_size.sample(3)"
   ]
  },
  {
   "cell_type": "code",
   "execution_count": 35,
   "metadata": {},
   "outputs": [
    {
     "data": {
      "text/plain": [
       "<matplotlib.axes._subplots.AxesSubplot at 0x210c85d0208>"
      ]
     },
     "execution_count": 35,
     "metadata": {},
     "output_type": "execute_result"
    },
    {
     "data": {
      "image/png": "[encoded data removed]",
      "text/plain": [
       "<Figure size 1440x576 with 1 Axes>"
      ]
     },
     "metadata": {},
     "output_type": "display_data"
    }
   ],
   "source": [
    "pre_sale_size.plot.bar(title='지역, 규모구분 별 평당 평균 분양가',\n",
    "                       figsize=(20, 8), grid=True, fontsize=20, rot=0)"
   ]
  },
  {
   "cell_type": "code",
   "execution_count": 36,
   "metadata": {},
   "outputs": [
    {
     "data": {
      "image/png": "[encoded data removed]",
      "text/plain": [
       "<Figure size 1200x1200 with 17 Axes>"
      ]
     },
     "metadata": {},
     "output_type": "display_data"
    },
    {
     "data": {
      "text/plain": [
       "<ggplot: (-9223371894910122983)>"
      ]
     },
     "execution_count": 36,
     "metadata": {},
     "output_type": "execute_result"
    }
   ],
   "source": [
    "# 위에 그린 그래프를 지역별로 나눠 봅니다.\n",
    "(ggplot(pre_sale)\n",
    " + aes(x='연도', y='평당분양가격', fill='규모구분')\n",
    " + geom_bar(stat='identity', position='dodge')\n",
    " + facet_wrap('지역명')\n",
    " + theme(text=element_text(family='NanumBarunGothic'),\n",
    "         axis_text_x=element_text(rotation=70),\n",
    "         figure_size=(12, 12))\n",
    ")"
   ]
  },
  {
   "cell_type": "markdown",
   "metadata": {},
   "source": [
    "#### 특징1: 대구 지역의 전용면적 102㎡초과규모의 평균분양가격이 다른 규모에 비해 유난히 비싸다."
   ]
  },
  {
   "cell_type": "code",
   "execution_count": 37,
   "metadata": {},
   "outputs": [
    {
     "data": {
      "text/html": [
       "<div>\n",
       "<style scoped>\n",
       "    .dataframe tbody tr th:only-of-type {\n",
       "        vertical-align: middle;\n",
       "    }\n",
       "\n",
       "    .dataframe tbody tr th {\n",
       "        vertical-align: top;\n",
       "    }\n",
       "\n",
       "    .dataframe thead th {\n",
       "        text-align: right;\n",
       "    }\n",
       "</style>\n",
       "<table border=\"1\" class=\"dataframe\">\n",
       "  <thead>\n",
       "    <tr style=\"text-align: right;\">\n",
       "      <th></th>\n",
       "      <th>지역명</th>\n",
       "      <th>규모구분</th>\n",
       "      <th>연도</th>\n",
       "      <th>월</th>\n",
       "      <th>분양가격(㎡)</th>\n",
       "      <th>분양가격</th>\n",
       "      <th>평당분양가격</th>\n",
       "    </tr>\n",
       "  </thead>\n",
       "  <tbody>\n",
       "    <tr>\n",
       "      <th>34</th>\n",
       "      <td>대전</td>\n",
       "      <td>전용면적 102㎡초과</td>\n",
       "      <td>2015</td>\n",
       "      <td>10</td>\n",
       "      <td></td>\n",
       "      <td>nan</td>\n",
       "      <td>nan</td>\n",
       "    </tr>\n",
       "    <tr>\n",
       "      <th>119</th>\n",
       "      <td>대전</td>\n",
       "      <td>전용면적 102㎡초과</td>\n",
       "      <td>2015</td>\n",
       "      <td>11</td>\n",
       "      <td></td>\n",
       "      <td>nan</td>\n",
       "      <td>nan</td>\n",
       "    </tr>\n",
       "    <tr>\n",
       "      <th>204</th>\n",
       "      <td>대전</td>\n",
       "      <td>전용면적 102㎡초과</td>\n",
       "      <td>2015</td>\n",
       "      <td>12</td>\n",
       "      <td></td>\n",
       "      <td>nan</td>\n",
       "      <td>nan</td>\n",
       "    </tr>\n",
       "    <tr>\n",
       "      <th>289</th>\n",
       "      <td>대전</td>\n",
       "      <td>전용면적 102㎡초과</td>\n",
       "      <td>2016</td>\n",
       "      <td>1</td>\n",
       "      <td></td>\n",
       "      <td>nan</td>\n",
       "      <td>nan</td>\n",
       "    </tr>\n",
       "    <tr>\n",
       "      <th>374</th>\n",
       "      <td>대전</td>\n",
       "      <td>전용면적 102㎡초과</td>\n",
       "      <td>2016</td>\n",
       "      <td>2</td>\n",
       "      <td>NaN</td>\n",
       "      <td>nan</td>\n",
       "      <td>nan</td>\n",
       "    </tr>\n",
       "    <tr>\n",
       "      <th>459</th>\n",
       "      <td>대전</td>\n",
       "      <td>전용면적 102㎡초과</td>\n",
       "      <td>2016</td>\n",
       "      <td>3</td>\n",
       "      <td>NaN</td>\n",
       "      <td>nan</td>\n",
       "      <td>nan</td>\n",
       "    </tr>\n",
       "    <tr>\n",
       "      <th>544</th>\n",
       "      <td>대전</td>\n",
       "      <td>전용면적 102㎡초과</td>\n",
       "      <td>2016</td>\n",
       "      <td>4</td>\n",
       "      <td>NaN</td>\n",
       "      <td>nan</td>\n",
       "      <td>nan</td>\n",
       "    </tr>\n",
       "    <tr>\n",
       "      <th>629</th>\n",
       "      <td>대전</td>\n",
       "      <td>전용면적 102㎡초과</td>\n",
       "      <td>2016</td>\n",
       "      <td>5</td>\n",
       "      <td>NaN</td>\n",
       "      <td>nan</td>\n",
       "      <td>nan</td>\n",
       "    </tr>\n",
       "    <tr>\n",
       "      <th>714</th>\n",
       "      <td>대전</td>\n",
       "      <td>전용면적 102㎡초과</td>\n",
       "      <td>2016</td>\n",
       "      <td>6</td>\n",
       "      <td>NaN</td>\n",
       "      <td>nan</td>\n",
       "      <td>nan</td>\n",
       "    </tr>\n",
       "    <tr>\n",
       "      <th>799</th>\n",
       "      <td>대전</td>\n",
       "      <td>전용면적 102㎡초과</td>\n",
       "      <td>2016</td>\n",
       "      <td>7</td>\n",
       "      <td>NaN</td>\n",
       "      <td>nan</td>\n",
       "      <td>nan</td>\n",
       "    </tr>\n",
       "    <tr>\n",
       "      <th>884</th>\n",
       "      <td>대전</td>\n",
       "      <td>전용면적 102㎡초과</td>\n",
       "      <td>2016</td>\n",
       "      <td>8</td>\n",
       "      <td>NaN</td>\n",
       "      <td>nan</td>\n",
       "      <td>nan</td>\n",
       "    </tr>\n",
       "    <tr>\n",
       "      <th>969</th>\n",
       "      <td>대전</td>\n",
       "      <td>전용면적 102㎡초과</td>\n",
       "      <td>2016</td>\n",
       "      <td>9</td>\n",
       "      <td>NaN</td>\n",
       "      <td>nan</td>\n",
       "      <td>nan</td>\n",
       "    </tr>\n",
       "    <tr>\n",
       "      <th>1054</th>\n",
       "      <td>대전</td>\n",
       "      <td>전용면적 102㎡초과</td>\n",
       "      <td>2016</td>\n",
       "      <td>10</td>\n",
       "      <td>4328</td>\n",
       "      <td>4,328</td>\n",
       "      <td>14,282</td>\n",
       "    </tr>\n",
       "    <tr>\n",
       "      <th>1139</th>\n",
       "      <td>대전</td>\n",
       "      <td>전용면적 102㎡초과</td>\n",
       "      <td>2016</td>\n",
       "      <td>11</td>\n",
       "      <td>4328</td>\n",
       "      <td>4,328</td>\n",
       "      <td>14,282</td>\n",
       "    </tr>\n",
       "    <tr>\n",
       "      <th>1224</th>\n",
       "      <td>대전</td>\n",
       "      <td>전용면적 102㎡초과</td>\n",
       "      <td>2016</td>\n",
       "      <td>12</td>\n",
       "      <td>4328</td>\n",
       "      <td>4,328</td>\n",
       "      <td>14,282</td>\n",
       "    </tr>\n",
       "    <tr>\n",
       "      <th>1309</th>\n",
       "      <td>대전</td>\n",
       "      <td>전용면적 102㎡초과</td>\n",
       "      <td>2017</td>\n",
       "      <td>1</td>\n",
       "      <td>4328</td>\n",
       "      <td>4,328</td>\n",
       "      <td>14,282</td>\n",
       "    </tr>\n",
       "    <tr>\n",
       "      <th>1394</th>\n",
       "      <td>대전</td>\n",
       "      <td>전용면적 102㎡초과</td>\n",
       "      <td>2017</td>\n",
       "      <td>2</td>\n",
       "      <td>4328</td>\n",
       "      <td>4,328</td>\n",
       "      <td>14,282</td>\n",
       "    </tr>\n",
       "    <tr>\n",
       "      <th>1479</th>\n",
       "      <td>대전</td>\n",
       "      <td>전용면적 102㎡초과</td>\n",
       "      <td>2017</td>\n",
       "      <td>3</td>\n",
       "      <td>4328</td>\n",
       "      <td>4,328</td>\n",
       "      <td>14,282</td>\n",
       "    </tr>\n",
       "    <tr>\n",
       "      <th>1564</th>\n",
       "      <td>대전</td>\n",
       "      <td>전용면적 102㎡초과</td>\n",
       "      <td>2017</td>\n",
       "      <td>4</td>\n",
       "      <td>4328</td>\n",
       "      <td>4,328</td>\n",
       "      <td>14,282</td>\n",
       "    </tr>\n",
       "    <tr>\n",
       "      <th>1649</th>\n",
       "      <td>대전</td>\n",
       "      <td>전용면적 102㎡초과</td>\n",
       "      <td>2017</td>\n",
       "      <td>5</td>\n",
       "      <td>4328</td>\n",
       "      <td>4,328</td>\n",
       "      <td>14,282</td>\n",
       "    </tr>\n",
       "    <tr>\n",
       "      <th>1734</th>\n",
       "      <td>대전</td>\n",
       "      <td>전용면적 102㎡초과</td>\n",
       "      <td>2017</td>\n",
       "      <td>6</td>\n",
       "      <td>4328</td>\n",
       "      <td>4,328</td>\n",
       "      <td>14,282</td>\n",
       "    </tr>\n",
       "    <tr>\n",
       "      <th>1819</th>\n",
       "      <td>대전</td>\n",
       "      <td>전용면적 102㎡초과</td>\n",
       "      <td>2017</td>\n",
       "      <td>7</td>\n",
       "      <td>4328</td>\n",
       "      <td>4,328</td>\n",
       "      <td>14,282</td>\n",
       "    </tr>\n",
       "    <tr>\n",
       "      <th>1904</th>\n",
       "      <td>대전</td>\n",
       "      <td>전용면적 102㎡초과</td>\n",
       "      <td>2017</td>\n",
       "      <td>8</td>\n",
       "      <td>4328</td>\n",
       "      <td>4,328</td>\n",
       "      <td>14,282</td>\n",
       "    </tr>\n",
       "    <tr>\n",
       "      <th>1989</th>\n",
       "      <td>대전</td>\n",
       "      <td>전용면적 102㎡초과</td>\n",
       "      <td>2017</td>\n",
       "      <td>9</td>\n",
       "      <td>4328</td>\n",
       "      <td>4,328</td>\n",
       "      <td>14,282</td>\n",
       "    </tr>\n",
       "    <tr>\n",
       "      <th>2074</th>\n",
       "      <td>대전</td>\n",
       "      <td>전용면적 102㎡초과</td>\n",
       "      <td>2017</td>\n",
       "      <td>10</td>\n",
       "      <td>NaN</td>\n",
       "      <td>nan</td>\n",
       "      <td>nan</td>\n",
       "    </tr>\n",
       "    <tr>\n",
       "      <th>2159</th>\n",
       "      <td>대전</td>\n",
       "      <td>전용면적 102㎡초과</td>\n",
       "      <td>2017</td>\n",
       "      <td>11</td>\n",
       "      <td>NaN</td>\n",
       "      <td>nan</td>\n",
       "      <td>nan</td>\n",
       "    </tr>\n",
       "    <tr>\n",
       "      <th>2244</th>\n",
       "      <td>대전</td>\n",
       "      <td>전용면적 102㎡초과</td>\n",
       "      <td>2017</td>\n",
       "      <td>12</td>\n",
       "      <td>NaN</td>\n",
       "      <td>nan</td>\n",
       "      <td>nan</td>\n",
       "    </tr>\n",
       "    <tr>\n",
       "      <th>2329</th>\n",
       "      <td>대전</td>\n",
       "      <td>전용면적 102㎡초과</td>\n",
       "      <td>2018</td>\n",
       "      <td>1</td>\n",
       "      <td>NaN</td>\n",
       "      <td>nan</td>\n",
       "      <td>nan</td>\n",
       "    </tr>\n",
       "    <tr>\n",
       "      <th>2414</th>\n",
       "      <td>대전</td>\n",
       "      <td>전용면적 102㎡초과</td>\n",
       "      <td>2018</td>\n",
       "      <td>2</td>\n",
       "      <td>NaN</td>\n",
       "      <td>nan</td>\n",
       "      <td>nan</td>\n",
       "    </tr>\n",
       "    <tr>\n",
       "      <th>2499</th>\n",
       "      <td>대전</td>\n",
       "      <td>전용면적 102㎡초과</td>\n",
       "      <td>2018</td>\n",
       "      <td>3</td>\n",
       "      <td>NaN</td>\n",
       "      <td>nan</td>\n",
       "      <td>nan</td>\n",
       "    </tr>\n",
       "    <tr>\n",
       "      <th>2584</th>\n",
       "      <td>대전</td>\n",
       "      <td>전용면적 102㎡초과</td>\n",
       "      <td>2018</td>\n",
       "      <td>4</td>\n",
       "      <td>NaN</td>\n",
       "      <td>nan</td>\n",
       "      <td>nan</td>\n",
       "    </tr>\n",
       "    <tr>\n",
       "      <th>2669</th>\n",
       "      <td>대전</td>\n",
       "      <td>전용면적 102㎡초과</td>\n",
       "      <td>2018</td>\n",
       "      <td>5</td>\n",
       "      <td>NaN</td>\n",
       "      <td>nan</td>\n",
       "      <td>nan</td>\n",
       "    </tr>\n",
       "    <tr>\n",
       "      <th>2754</th>\n",
       "      <td>대전</td>\n",
       "      <td>전용면적 102㎡초과</td>\n",
       "      <td>2018</td>\n",
       "      <td>6</td>\n",
       "      <td>NaN</td>\n",
       "      <td>nan</td>\n",
       "      <td>nan</td>\n",
       "    </tr>\n",
       "    <tr>\n",
       "      <th>2839</th>\n",
       "      <td>대전</td>\n",
       "      <td>전용면적 102㎡초과</td>\n",
       "      <td>2018</td>\n",
       "      <td>7</td>\n",
       "      <td>NaN</td>\n",
       "      <td>nan</td>\n",
       "      <td>nan</td>\n",
       "    </tr>\n",
       "  </tbody>\n",
       "</table>\n",
       "</div>"
      ],
      "text/plain": [
       "     지역명         규모구분    연도   월 분양가격(㎡)  분양가격  평당분양가격\n",
       "34    대전  전용면적 102㎡초과  2015  10           nan     nan\n",
       "119   대전  전용면적 102㎡초과  2015  11           nan     nan\n",
       "204   대전  전용면적 102㎡초과  2015  12           nan     nan\n",
       "289   대전  전용면적 102㎡초과  2016   1           nan     nan\n",
       "374   대전  전용면적 102㎡초과  2016   2     NaN   nan     nan\n",
       "459   대전  전용면적 102㎡초과  2016   3     NaN   nan     nan\n",
       "544   대전  전용면적 102㎡초과  2016   4     NaN   nan     nan\n",
       "629   대전  전용면적 102㎡초과  2016   5     NaN   nan     nan\n",
       "714   대전  전용면적 102㎡초과  2016   6     NaN   nan     nan\n",
       "799   대전  전용면적 102㎡초과  2016   7     NaN   nan     nan\n",
       "884   대전  전용면적 102㎡초과  2016   8     NaN   nan     nan\n",
       "969   대전  전용면적 102㎡초과  2016   9     NaN   nan     nan\n",
       "1054  대전  전용면적 102㎡초과  2016  10    4328 4,328  14,282\n",
       "1139  대전  전용면적 102㎡초과  2016  11    4328 4,328  14,282\n",
       "1224  대전  전용면적 102㎡초과  2016  12    4328 4,328  14,282\n",
       "1309  대전  전용면적 102㎡초과  2017   1    4328 4,328  14,282\n",
       "1394  대전  전용면적 102㎡초과  2017   2    4328 4,328  14,282\n",
       "1479  대전  전용면적 102㎡초과  2017   3    4328 4,328  14,282\n",
       "1564  대전  전용면적 102㎡초과  2017   4    4328 4,328  14,282\n",
       "1649  대전  전용면적 102㎡초과  2017   5    4328 4,328  14,282\n",
       "1734  대전  전용면적 102㎡초과  2017   6    4328 4,328  14,282\n",
       "1819  대전  전용면적 102㎡초과  2017   7    4328 4,328  14,282\n",
       "1904  대전  전용면적 102㎡초과  2017   8    4328 4,328  14,282\n",
       "1989  대전  전용면적 102㎡초과  2017   9    4328 4,328  14,282\n",
       "2074  대전  전용면적 102㎡초과  2017  10     NaN   nan     nan\n",
       "2159  대전  전용면적 102㎡초과  2017  11     NaN   nan     nan\n",
       "2244  대전  전용면적 102㎡초과  2017  12     NaN   nan     nan\n",
       "2329  대전  전용면적 102㎡초과  2018   1     NaN   nan     nan\n",
       "2414  대전  전용면적 102㎡초과  2018   2     NaN   nan     nan\n",
       "2499  대전  전용면적 102㎡초과  2018   3     NaN   nan     nan\n",
       "2584  대전  전용면적 102㎡초과  2018   4     NaN   nan     nan\n",
       "2669  대전  전용면적 102㎡초과  2018   5     NaN   nan     nan\n",
       "2754  대전  전용면적 102㎡초과  2018   6     NaN   nan     nan\n",
       "2839  대전  전용면적 102㎡초과  2018   7     NaN   nan     nan"
      ]
     },
     "execution_count": 37,
     "metadata": {},
     "output_type": "execute_result"
    }
   ],
   "source": [
    "pre_sale[(pre_sale[\"지역명\"] == \"대전\") & (pre_sale[\"규모구분\"] == \"전용면적 102㎡초과\")]"
   ]
  },
  {
   "cell_type": "markdown",
   "metadata": {},
   "source": [
    "대전 지역에서 전용면적 102㎡초과인 경우 2016년 10월 부터 2017년 9월까지를 제외한 나머지 데이터가 결측값이며, 결측값이 아닌 경우는 모두 같은 값을 갖기 때문에 편차가 존재하지 않아 신뢰구간이 그래프에 나타나지 않으며, 상대적으로 큰 값을 갖는다."
   ]
  },
  {
   "cell_type": "markdown",
   "metadata": {},
   "source": [
    "#### 특징2: 제주 지역의 전용면적 60㎡ 이하규모의 평균분양가격이 다른 규모에 비해 비싸다"
   ]
  },
  {
   "cell_type": "code",
   "execution_count": 38,
   "metadata": {},
   "outputs": [
    {
     "data": {
      "text/html": [
       "<div>\n",
       "<style scoped>\n",
       "    .dataframe tbody tr th:only-of-type {\n",
       "        vertical-align: middle;\n",
       "    }\n",
       "\n",
       "    .dataframe tbody tr th {\n",
       "        vertical-align: top;\n",
       "    }\n",
       "\n",
       "    .dataframe thead th {\n",
       "        text-align: right;\n",
       "    }\n",
       "</style>\n",
       "<table border=\"1\" class=\"dataframe\">\n",
       "  <thead>\n",
       "    <tr style=\"text-align: right;\">\n",
       "      <th></th>\n",
       "      <th>지역명</th>\n",
       "      <th>규모구분</th>\n",
       "      <th>연도</th>\n",
       "      <th>월</th>\n",
       "      <th>분양가격(㎡)</th>\n",
       "      <th>분양가격</th>\n",
       "      <th>평당분양가격</th>\n",
       "    </tr>\n",
       "  </thead>\n",
       "  <tbody>\n",
       "    <tr>\n",
       "      <th>81</th>\n",
       "      <td>제주</td>\n",
       "      <td>전용면적 60㎡이하</td>\n",
       "      <td>2015</td>\n",
       "      <td>10</td>\n",
       "      <td></td>\n",
       "      <td>nan</td>\n",
       "      <td>nan</td>\n",
       "    </tr>\n",
       "    <tr>\n",
       "      <th>166</th>\n",
       "      <td>제주</td>\n",
       "      <td>전용면적 60㎡이하</td>\n",
       "      <td>2015</td>\n",
       "      <td>11</td>\n",
       "      <td></td>\n",
       "      <td>nan</td>\n",
       "      <td>nan</td>\n",
       "    </tr>\n",
       "    <tr>\n",
       "      <th>251</th>\n",
       "      <td>제주</td>\n",
       "      <td>전용면적 60㎡이하</td>\n",
       "      <td>2015</td>\n",
       "      <td>12</td>\n",
       "      <td></td>\n",
       "      <td>nan</td>\n",
       "      <td>nan</td>\n",
       "    </tr>\n",
       "    <tr>\n",
       "      <th>336</th>\n",
       "      <td>제주</td>\n",
       "      <td>전용면적 60㎡이하</td>\n",
       "      <td>2016</td>\n",
       "      <td>1</td>\n",
       "      <td></td>\n",
       "      <td>nan</td>\n",
       "      <td>nan</td>\n",
       "    </tr>\n",
       "    <tr>\n",
       "      <th>421</th>\n",
       "      <td>제주</td>\n",
       "      <td>전용면적 60㎡이하</td>\n",
       "      <td>2016</td>\n",
       "      <td>2</td>\n",
       "      <td>NaN</td>\n",
       "      <td>nan</td>\n",
       "      <td>nan</td>\n",
       "    </tr>\n",
       "    <tr>\n",
       "      <th>506</th>\n",
       "      <td>제주</td>\n",
       "      <td>전용면적 60㎡이하</td>\n",
       "      <td>2016</td>\n",
       "      <td>3</td>\n",
       "      <td>NaN</td>\n",
       "      <td>nan</td>\n",
       "      <td>nan</td>\n",
       "    </tr>\n",
       "    <tr>\n",
       "      <th>591</th>\n",
       "      <td>제주</td>\n",
       "      <td>전용면적 60㎡이하</td>\n",
       "      <td>2016</td>\n",
       "      <td>4</td>\n",
       "      <td>2853</td>\n",
       "      <td>2,853</td>\n",
       "      <td>9,415</td>\n",
       "    </tr>\n",
       "    <tr>\n",
       "      <th>676</th>\n",
       "      <td>제주</td>\n",
       "      <td>전용면적 60㎡이하</td>\n",
       "      <td>2016</td>\n",
       "      <td>5</td>\n",
       "      <td>2853</td>\n",
       "      <td>2,853</td>\n",
       "      <td>9,415</td>\n",
       "    </tr>\n",
       "    <tr>\n",
       "      <th>761</th>\n",
       "      <td>제주</td>\n",
       "      <td>전용면적 60㎡이하</td>\n",
       "      <td>2016</td>\n",
       "      <td>6</td>\n",
       "      <td>2853</td>\n",
       "      <td>2,853</td>\n",
       "      <td>9,415</td>\n",
       "    </tr>\n",
       "    <tr>\n",
       "      <th>846</th>\n",
       "      <td>제주</td>\n",
       "      <td>전용면적 60㎡이하</td>\n",
       "      <td>2016</td>\n",
       "      <td>7</td>\n",
       "      <td>2853</td>\n",
       "      <td>2,853</td>\n",
       "      <td>9,415</td>\n",
       "    </tr>\n",
       "    <tr>\n",
       "      <th>931</th>\n",
       "      <td>제주</td>\n",
       "      <td>전용면적 60㎡이하</td>\n",
       "      <td>2016</td>\n",
       "      <td>8</td>\n",
       "      <td>2853</td>\n",
       "      <td>2,853</td>\n",
       "      <td>9,415</td>\n",
       "    </tr>\n",
       "    <tr>\n",
       "      <th>1016</th>\n",
       "      <td>제주</td>\n",
       "      <td>전용면적 60㎡이하</td>\n",
       "      <td>2016</td>\n",
       "      <td>9</td>\n",
       "      <td>4091</td>\n",
       "      <td>4,091</td>\n",
       "      <td>13,500</td>\n",
       "    </tr>\n",
       "    <tr>\n",
       "      <th>1101</th>\n",
       "      <td>제주</td>\n",
       "      <td>전용면적 60㎡이하</td>\n",
       "      <td>2016</td>\n",
       "      <td>10</td>\n",
       "      <td>4091</td>\n",
       "      <td>4,091</td>\n",
       "      <td>13,500</td>\n",
       "    </tr>\n",
       "    <tr>\n",
       "      <th>1186</th>\n",
       "      <td>제주</td>\n",
       "      <td>전용면적 60㎡이하</td>\n",
       "      <td>2016</td>\n",
       "      <td>11</td>\n",
       "      <td>4091</td>\n",
       "      <td>4,091</td>\n",
       "      <td>13,500</td>\n",
       "    </tr>\n",
       "    <tr>\n",
       "      <th>1271</th>\n",
       "      <td>제주</td>\n",
       "      <td>전용면적 60㎡이하</td>\n",
       "      <td>2016</td>\n",
       "      <td>12</td>\n",
       "      <td>4091</td>\n",
       "      <td>4,091</td>\n",
       "      <td>13,500</td>\n",
       "    </tr>\n",
       "    <tr>\n",
       "      <th>1356</th>\n",
       "      <td>제주</td>\n",
       "      <td>전용면적 60㎡이하</td>\n",
       "      <td>2017</td>\n",
       "      <td>1</td>\n",
       "      <td>4091</td>\n",
       "      <td>4,091</td>\n",
       "      <td>13,500</td>\n",
       "    </tr>\n",
       "    <tr>\n",
       "      <th>1441</th>\n",
       "      <td>제주</td>\n",
       "      <td>전용면적 60㎡이하</td>\n",
       "      <td>2017</td>\n",
       "      <td>2</td>\n",
       "      <td>4038</td>\n",
       "      <td>4,038</td>\n",
       "      <td>13,325</td>\n",
       "    </tr>\n",
       "    <tr>\n",
       "      <th>1526</th>\n",
       "      <td>제주</td>\n",
       "      <td>전용면적 60㎡이하</td>\n",
       "      <td>2017</td>\n",
       "      <td>3</td>\n",
       "      <td>4038</td>\n",
       "      <td>4,038</td>\n",
       "      <td>13,325</td>\n",
       "    </tr>\n",
       "    <tr>\n",
       "      <th>1611</th>\n",
       "      <td>제주</td>\n",
       "      <td>전용면적 60㎡이하</td>\n",
       "      <td>2017</td>\n",
       "      <td>4</td>\n",
       "      <td>4630</td>\n",
       "      <td>4,630</td>\n",
       "      <td>15,279</td>\n",
       "    </tr>\n",
       "    <tr>\n",
       "      <th>1696</th>\n",
       "      <td>제주</td>\n",
       "      <td>전용면적 60㎡이하</td>\n",
       "      <td>2017</td>\n",
       "      <td>5</td>\n",
       "      <td>4630</td>\n",
       "      <td>4,630</td>\n",
       "      <td>15,279</td>\n",
       "    </tr>\n",
       "    <tr>\n",
       "      <th>1781</th>\n",
       "      <td>제주</td>\n",
       "      <td>전용면적 60㎡이하</td>\n",
       "      <td>2017</td>\n",
       "      <td>6</td>\n",
       "      <td>4630</td>\n",
       "      <td>4,630</td>\n",
       "      <td>15,279</td>\n",
       "    </tr>\n",
       "    <tr>\n",
       "      <th>1866</th>\n",
       "      <td>제주</td>\n",
       "      <td>전용면적 60㎡이하</td>\n",
       "      <td>2017</td>\n",
       "      <td>7</td>\n",
       "      <td>5152</td>\n",
       "      <td>5,152</td>\n",
       "      <td>17,002</td>\n",
       "    </tr>\n",
       "    <tr>\n",
       "      <th>1951</th>\n",
       "      <td>제주</td>\n",
       "      <td>전용면적 60㎡이하</td>\n",
       "      <td>2017</td>\n",
       "      <td>8</td>\n",
       "      <td>5152</td>\n",
       "      <td>5,152</td>\n",
       "      <td>17,002</td>\n",
       "    </tr>\n",
       "    <tr>\n",
       "      <th>2036</th>\n",
       "      <td>제주</td>\n",
       "      <td>전용면적 60㎡이하</td>\n",
       "      <td>2017</td>\n",
       "      <td>9</td>\n",
       "      <td>5380</td>\n",
       "      <td>5,380</td>\n",
       "      <td>17,754</td>\n",
       "    </tr>\n",
       "    <tr>\n",
       "      <th>2121</th>\n",
       "      <td>제주</td>\n",
       "      <td>전용면적 60㎡이하</td>\n",
       "      <td>2017</td>\n",
       "      <td>10</td>\n",
       "      <td>5380</td>\n",
       "      <td>5,380</td>\n",
       "      <td>17,754</td>\n",
       "    </tr>\n",
       "    <tr>\n",
       "      <th>2206</th>\n",
       "      <td>제주</td>\n",
       "      <td>전용면적 60㎡이하</td>\n",
       "      <td>2017</td>\n",
       "      <td>11</td>\n",
       "      <td>5,380</td>\n",
       "      <td>nan</td>\n",
       "      <td>nan</td>\n",
       "    </tr>\n",
       "    <tr>\n",
       "      <th>2291</th>\n",
       "      <td>제주</td>\n",
       "      <td>전용면적 60㎡이하</td>\n",
       "      <td>2017</td>\n",
       "      <td>12</td>\n",
       "      <td>5380</td>\n",
       "      <td>5,380</td>\n",
       "      <td>17,754</td>\n",
       "    </tr>\n",
       "    <tr>\n",
       "      <th>2376</th>\n",
       "      <td>제주</td>\n",
       "      <td>전용면적 60㎡이하</td>\n",
       "      <td>2018</td>\n",
       "      <td>1</td>\n",
       "      <td>5380</td>\n",
       "      <td>5,380</td>\n",
       "      <td>17,754</td>\n",
       "    </tr>\n",
       "    <tr>\n",
       "      <th>2461</th>\n",
       "      <td>제주</td>\n",
       "      <td>전용면적 60㎡이하</td>\n",
       "      <td>2018</td>\n",
       "      <td>2</td>\n",
       "      <td>5462</td>\n",
       "      <td>5,462</td>\n",
       "      <td>18,025</td>\n",
       "    </tr>\n",
       "    <tr>\n",
       "      <th>2546</th>\n",
       "      <td>제주</td>\n",
       "      <td>전용면적 60㎡이하</td>\n",
       "      <td>2018</td>\n",
       "      <td>3</td>\n",
       "      <td>5462</td>\n",
       "      <td>5,462</td>\n",
       "      <td>18,025</td>\n",
       "    </tr>\n",
       "    <tr>\n",
       "      <th>2631</th>\n",
       "      <td>제주</td>\n",
       "      <td>전용면적 60㎡이하</td>\n",
       "      <td>2018</td>\n",
       "      <td>4</td>\n",
       "      <td>5462</td>\n",
       "      <td>5,462</td>\n",
       "      <td>18,025</td>\n",
       "    </tr>\n",
       "    <tr>\n",
       "      <th>2716</th>\n",
       "      <td>제주</td>\n",
       "      <td>전용면적 60㎡이하</td>\n",
       "      <td>2018</td>\n",
       "      <td>5</td>\n",
       "      <td>5462</td>\n",
       "      <td>5,462</td>\n",
       "      <td>18,025</td>\n",
       "    </tr>\n",
       "    <tr>\n",
       "      <th>2801</th>\n",
       "      <td>제주</td>\n",
       "      <td>전용면적 60㎡이하</td>\n",
       "      <td>2018</td>\n",
       "      <td>6</td>\n",
       "      <td>5462</td>\n",
       "      <td>5,462</td>\n",
       "      <td>18,025</td>\n",
       "    </tr>\n",
       "    <tr>\n",
       "      <th>2886</th>\n",
       "      <td>제주</td>\n",
       "      <td>전용면적 60㎡이하</td>\n",
       "      <td>2018</td>\n",
       "      <td>7</td>\n",
       "      <td>NaN</td>\n",
       "      <td>nan</td>\n",
       "      <td>nan</td>\n",
       "    </tr>\n",
       "  </tbody>\n",
       "</table>\n",
       "</div>"
      ],
      "text/plain": [
       "     지역명        규모구분    연도   월 분양가격(㎡)  분양가격  평당분양가격\n",
       "81    제주  전용면적 60㎡이하  2015  10           nan     nan\n",
       "166   제주  전용면적 60㎡이하  2015  11           nan     nan\n",
       "251   제주  전용면적 60㎡이하  2015  12           nan     nan\n",
       "336   제주  전용면적 60㎡이하  2016   1           nan     nan\n",
       "421   제주  전용면적 60㎡이하  2016   2     NaN   nan     nan\n",
       "506   제주  전용면적 60㎡이하  2016   3     NaN   nan     nan\n",
       "591   제주  전용면적 60㎡이하  2016   4    2853 2,853   9,415\n",
       "676   제주  전용면적 60㎡이하  2016   5    2853 2,853   9,415\n",
       "761   제주  전용면적 60㎡이하  2016   6    2853 2,853   9,415\n",
       "846   제주  전용면적 60㎡이하  2016   7    2853 2,853   9,415\n",
       "931   제주  전용면적 60㎡이하  2016   8    2853 2,853   9,415\n",
       "1016  제주  전용면적 60㎡이하  2016   9    4091 4,091  13,500\n",
       "1101  제주  전용면적 60㎡이하  2016  10    4091 4,091  13,500\n",
       "1186  제주  전용면적 60㎡이하  2016  11    4091 4,091  13,500\n",
       "1271  제주  전용면적 60㎡이하  2016  12    4091 4,091  13,500\n",
       "1356  제주  전용면적 60㎡이하  2017   1    4091 4,091  13,500\n",
       "1441  제주  전용면적 60㎡이하  2017   2    4038 4,038  13,325\n",
       "1526  제주  전용면적 60㎡이하  2017   3    4038 4,038  13,325\n",
       "1611  제주  전용면적 60㎡이하  2017   4    4630 4,630  15,279\n",
       "1696  제주  전용면적 60㎡이하  2017   5    4630 4,630  15,279\n",
       "1781  제주  전용면적 60㎡이하  2017   6    4630 4,630  15,279\n",
       "1866  제주  전용면적 60㎡이하  2017   7    5152 5,152  17,002\n",
       "1951  제주  전용면적 60㎡이하  2017   8    5152 5,152  17,002\n",
       "2036  제주  전용면적 60㎡이하  2017   9    5380 5,380  17,754\n",
       "2121  제주  전용면적 60㎡이하  2017  10    5380 5,380  17,754\n",
       "2206  제주  전용면적 60㎡이하  2017  11   5,380   nan     nan\n",
       "2291  제주  전용면적 60㎡이하  2017  12    5380 5,380  17,754\n",
       "2376  제주  전용면적 60㎡이하  2018   1    5380 5,380  17,754\n",
       "2461  제주  전용면적 60㎡이하  2018   2    5462 5,462  18,025\n",
       "2546  제주  전용면적 60㎡이하  2018   3    5462 5,462  18,025\n",
       "2631  제주  전용면적 60㎡이하  2018   4    5462 5,462  18,025\n",
       "2716  제주  전용면적 60㎡이하  2018   5    5462 5,462  18,025\n",
       "2801  제주  전용면적 60㎡이하  2018   6    5462 5,462  18,025\n",
       "2886  제주  전용면적 60㎡이하  2018   7     NaN   nan     nan"
      ]
     },
     "execution_count": 38,
     "metadata": {},
     "output_type": "execute_result"
    }
   ],
   "source": [
    "pre_sale[(pre_sale[\"지역명\"] == \"제주\") & (pre_sale[\"규모구분\"] == \"전용면적 60㎡이하\")]"
   ]
  },
  {
   "cell_type": "markdown",
   "metadata": {},
   "source": [
    "특별히 결측값이 많지않다. 다만 최근 제주로 이사가는 젊은 부부가 증가하여 작은 면적의 분양가가 높아졌다고 조심스럽게 추측할 수 있다."
   ]
  },
  {
   "cell_type": "markdown",
   "metadata": {},
   "source": [
    "## 전국 규모(면적)별 신규 민간 아파트 분양가격"
   ]
  },
  {
   "cell_type": "code",
   "execution_count": 39,
   "metadata": {},
   "outputs": [
    {
     "data": {
      "text/html": [
       "<div>\n",
       "<style scoped>\n",
       "    .dataframe tbody tr th:only-of-type {\n",
       "        vertical-align: middle;\n",
       "    }\n",
       "\n",
       "    .dataframe tbody tr th {\n",
       "        vertical-align: top;\n",
       "    }\n",
       "\n",
       "    .dataframe thead th {\n",
       "        text-align: right;\n",
       "    }\n",
       "</style>\n",
       "<table border=\"1\" class=\"dataframe\">\n",
       "  <thead>\n",
       "    <tr style=\"text-align: right;\">\n",
       "      <th></th>\n",
       "      <th>지역명</th>\n",
       "      <th>평당분양가격</th>\n",
       "      <th>규모구분</th>\n",
       "    </tr>\n",
       "  </thead>\n",
       "  <tbody>\n",
       "    <tr>\n",
       "      <th>1478</th>\n",
       "      <td>대전</td>\n",
       "      <td>8,580</td>\n",
       "      <td>전용면적 85㎡초과 102㎡이하</td>\n",
       "    </tr>\n",
       "    <tr>\n",
       "      <th>2464</th>\n",
       "      <td>제주</td>\n",
       "      <td>9,996</td>\n",
       "      <td>전용면적 102㎡초과</td>\n",
       "    </tr>\n",
       "    <tr>\n",
       "      <th>1886</th>\n",
       "      <td>부산</td>\n",
       "      <td>11,408</td>\n",
       "      <td>전용면적 60㎡이하</td>\n",
       "    </tr>\n",
       "  </tbody>\n",
       "</table>\n",
       "</div>"
      ],
      "text/plain": [
       "     지역명  평당분양가격               규모구분\n",
       "1478  대전   8,580  전용면적 85㎡초과 102㎡이하\n",
       "2464  제주   9,996        전용면적 102㎡초과\n",
       "1886  부산  11,408         전용면적 60㎡이하"
      ]
     },
     "execution_count": 39,
     "metadata": {},
     "output_type": "execute_result"
    }
   ],
   "source": [
    "pre_sale.sample()\n",
    "pre_sale[[\"지역명\", \"평당분양가격\", \"규모구분\"]].sample(3)"
   ]
  },
  {
   "cell_type": "code",
   "execution_count": 40,
   "metadata": {},
   "outputs": [
    {
     "data": {
      "text/plain": [
       "232"
      ]
     },
     "execution_count": 40,
     "metadata": {},
     "output_type": "execute_result"
    }
   ],
   "source": [
    "# 결측치 확인\n",
    "pre_sale['평당분양가격'].isnull().sum()"
   ]
  },
  {
   "cell_type": "code",
   "execution_count": 41,
   "metadata": {},
   "outputs": [],
   "source": [
    "# 결측치가 있으면 시각화에 어려움이 있기 때문에 drop\n",
    "pre_sale['평당분양가격'].dropna(inplace=True, axis=0)"
   ]
  },
  {
   "cell_type": "code",
   "execution_count": 42,
   "metadata": {},
   "outputs": [
    {
     "data": {
      "text/plain": [
       "0"
      ]
     },
     "execution_count": 42,
     "metadata": {},
     "output_type": "execute_result"
    }
   ],
   "source": [
    "# 결측치 확인 -> 결측치 제거 완료\n",
    "pre_sale['평당분양가격'].isnull().sum()"
   ]
  },
  {
   "cell_type": "code",
   "execution_count": 43,
   "metadata": {},
   "outputs": [
    {
     "data": {
      "text/plain": [
       "지역명         object\n",
       "규모구분        object\n",
       "연도          object\n",
       "월           object\n",
       "분양가격(㎡)     object\n",
       "분양가격       float64\n",
       "평당분양가격     float64\n",
       "dtype: object"
      ]
     },
     "execution_count": 43,
     "metadata": {},
     "output_type": "execute_result"
    }
   ],
   "source": [
    "pre_sale.shape\n",
    "pre_sale.dtypes"
   ]
  },
  {
   "cell_type": "code",
   "execution_count": 44,
   "metadata": {},
   "outputs": [
    {
     "data": {
      "text/plain": [
       "0       19275\n",
       "1       18651\n",
       "2       19410\n",
       "3       18879\n",
       "4       19400\n",
       "        ...  \n",
       "2884     9368\n",
       "2885    11002\n",
       "2887    11074\n",
       "2888    10645\n",
       "2889     9867\n",
       "Name: 평당분양가격, Length: 2658, dtype: int32"
      ]
     },
     "execution_count": 44,
     "metadata": {},
     "output_type": "execute_result"
    }
   ],
   "source": [
    "# 평당분양가격의 데이터타입을 수치형으로 변경\n",
    "pre_sale['평당분양가격'].astype(int)"
   ]
  },
  {
   "cell_type": "code",
   "execution_count": 45,
   "metadata": {},
   "outputs": [
    {
     "data": {
      "text/plain": [
       "array(['전체', '전용면적 60㎡이하', '전용면적 60㎡초과 85㎡이하', '전용면적 85㎡초과 102㎡이하',\n",
       "       '전용면적 102㎡초과'], dtype=object)"
      ]
     },
     "execution_count": 45,
     "metadata": {},
     "output_type": "execute_result"
    }
   ],
   "source": [
    "pre_sale['규모구분'].unique()"
   ]
  },
  {
   "cell_type": "code",
   "execution_count": 46,
   "metadata": {},
   "outputs": [
    {
     "data": {
      "text/plain": [
       "349     3408\n",
       "2372    2666\n",
       "1077    2243\n",
       "Name: 분양가격(㎡), dtype: object"
      ]
     },
     "execution_count": 46,
     "metadata": {},
     "output_type": "execute_result"
    }
   ],
   "source": [
    "pre_sale_price.sample(3)"
   ]
  },
  {
   "cell_type": "markdown",
   "metadata": {},
   "source": [
    "### box - and - whisker plot | diagram\n",
    "\n",
    "* 지역별 평당 분양가격"
   ]
  },
  {
   "cell_type": "code",
   "execution_count": 47,
   "metadata": {},
   "outputs": [
    {
     "data": {
      "text/plain": [
       "<matplotlib.axes._subplots.AxesSubplot at 0x210c8bb6c18>"
      ]
     },
     "execution_count": 47,
     "metadata": {},
     "output_type": "execute_result"
    },
    {
     "data": {
      "image/png": "[encoded data removed]",
      "text/plain": [
       "<Figure size 1296x432 with 1 Axes>"
      ]
     },
     "metadata": {},
     "output_type": "display_data"
    }
   ],
   "source": [
    "pre_sale[['지역명', '평당분양가격']].boxplot(by=['지역명'],figsize=(18,6) )"
   ]
  },
  {
   "cell_type": "markdown",
   "metadata": {},
   "source": [
    "* 지역 및 연도별 평당 분양가격"
   ]
  },
  {
   "cell_type": "code",
   "execution_count": 48,
   "metadata": {},
   "outputs": [
    {
     "data": {
      "text/plain": [
       "<matplotlib.axes._subplots.AxesSubplot at 0x210c9843128>"
      ]
     },
     "execution_count": 48,
     "metadata": {},
     "output_type": "execute_result"
    },
    {
     "data": {
      "image/png": "[encoded data removed]",
      "text/plain": [
       "<Figure size 1296x432 with 1 Axes>"
      ]
     },
     "metadata": {},
     "output_type": "display_data"
    }
   ],
   "source": [
    "pre_sale[['연도', '지역명', '평당분양가격']].boxplot(\n",
    "    by=['연도', '지역명'],\n",
    "    figsize=(18,6),\n",
    "    fontsize=12,\n",
    "    rot=60)"
   ]
  },
  {
   "cell_type": "markdown",
   "metadata": {},
   "source": [
    "* 서울지역의 평당분양가격"
   ]
  },
  {
   "cell_type": "code",
   "execution_count": 49,
   "metadata": {},
   "outputs": [
    {
     "data": {
      "text/plain": [
       "<matplotlib.axes._subplots.AxesSubplot at 0x210ca3de4a8>"
      ]
     },
     "execution_count": 49,
     "metadata": {},
     "output_type": "execute_result"
    },
    {
     "data": {
      "image/png": "[encoded data removed]",
      "text/plain": [
       "<Figure size 1296x432 with 1 Axes>"
      ]
     },
     "metadata": {},
     "output_type": "display_data"
    }
   ],
   "source": [
    "pre_sale_seoul = pre_sale[pre_sale['지역명'] == '서울']\n",
    "pre_sale_seoul[['연도', '규모구분', '평당분양가격']].boxplot(\n",
    "    by=['연도', '규모구분'],\n",
    "    figsize=(18,6),\n",
    "    rot=45\n",
    ")"
   ]
  },
  {
   "cell_type": "markdown",
   "metadata": {},
   "source": [
    "* 제주의 연도별 평당분양가격"
   ]
  },
  {
   "cell_type": "code",
   "execution_count": 50,
   "metadata": {},
   "outputs": [
    {
     "data": {
      "text/plain": [
       "<matplotlib.axes._subplots.AxesSubplot at 0x210ca59aeb8>"
      ]
     },
     "execution_count": 50,
     "metadata": {},
     "output_type": "execute_result"
    },
    {
     "data": {
      "image/png": "[encoded data removed]",
      "text/plain": [
       "<Figure size 1008x432 with 1 Axes>"
      ]
     },
     "metadata": {},
     "output_type": "display_data"
    }
   ],
   "source": [
    "pre_sale_jeju = pre_sale[pre_sale['지역명'] == '제주']\n",
    "pre_sale_jeju[['연도', '평당분양가격']].boxplot(\n",
    "    by = ['연도'],\n",
    "    figsize=(14,6))"
   ]
  },
  {
   "cell_type": "code",
   "execution_count": 51,
   "metadata": {},
   "outputs": [
    {
     "data": {
      "text/plain": [
       "<matplotlib.axes._subplots.AxesSubplot at 0x210ca577668>"
      ]
     },
     "execution_count": 51,
     "metadata": {},
     "output_type": "execute_result"
    },
    {
     "data": {
      "image/png": "[encoded data removed]",
      "text/plain": [
       "<Figure size 1296x432 with 1 Axes>"
      ]
     },
     "metadata": {},
     "output_type": "display_data"
    }
   ],
   "source": [
    "pre_sale_jeju[['연도', '규모구분', '평당분양가격']].boxplot(\n",
    "    by = ['연도', '규모구분'],\n",
    "    figsize = (18,6), rot = 45)"
   ]
  },
  {
   "cell_type": "markdown",
   "metadata": {},
   "source": [
    "## Tidy Data 만들기"
   ]
  },
  {
   "cell_type": "code",
   "execution_count": 52,
   "metadata": {},
   "outputs": [
    {
     "data": {
      "text/plain": [
       "(23, 27)"
      ]
     },
     "execution_count": 52,
     "metadata": {},
     "output_type": "execute_result"
    }
   ],
   "source": [
    "df = pd.read_csv('data/apt_price/지역별_3.3㎡당_평균_분양가격_천원__15.09월.csv', \\\n",
    "                 encoding='euc-kr', skiprows=1, header=0, engine='python')\n",
    "\n",
    "df.shape"
   ]
  },
  {
   "cell_type": "markdown",
   "metadata": {},
   "source": [
    "* 컬럼 변경하기"
   ]
  },
  {
   "cell_type": "code",
   "execution_count": 53,
   "metadata": {},
   "outputs": [
    {
     "data": {
      "text/html": [
       "<div>\n",
       "<style scoped>\n",
       "    .dataframe tbody tr th:only-of-type {\n",
       "        vertical-align: middle;\n",
       "    }\n",
       "\n",
       "    .dataframe tbody tr th {\n",
       "        vertical-align: top;\n",
       "    }\n",
       "\n",
       "    .dataframe thead th {\n",
       "        text-align: right;\n",
       "    }\n",
       "</style>\n",
       "<table border=\"1\" class=\"dataframe\">\n",
       "  <thead>\n",
       "    <tr style=\"text-align: right;\">\n",
       "      <th></th>\n",
       "      <th>Unnamed: 0</th>\n",
       "      <th>Unnamed: 1</th>\n",
       "      <th>Unnamed: 2</th>\n",
       "      <th>Unnamed: 3</th>\n",
       "      <th>Unnamed: 4</th>\n",
       "      <th>Unnamed: 5</th>\n",
       "      <th>Unnamed: 6</th>\n",
       "      <th>Unnamed: 7</th>\n",
       "      <th>Unnamed: 8</th>\n",
       "      <th>Unnamed: 9</th>\n",
       "      <th>...</th>\n",
       "      <th>Unnamed: 17</th>\n",
       "      <th>Unnamed: 18</th>\n",
       "      <th>Unnamed: 19</th>\n",
       "      <th>Unnamed: 20</th>\n",
       "      <th>Unnamed: 21</th>\n",
       "      <th>Unnamed: 22</th>\n",
       "      <th>Unnamed: 23</th>\n",
       "      <th>Unnamed: 24</th>\n",
       "      <th>Unnamed: 25</th>\n",
       "      <th>Unnamed: 26</th>\n",
       "    </tr>\n",
       "  </thead>\n",
       "  <tbody>\n",
       "    <tr>\n",
       "      <th>0</th>\n",
       "      <td>구분</td>\n",
       "      <td>NaN</td>\n",
       "      <td>2013년</td>\n",
       "      <td>2014년</td>\n",
       "      <td>NaN</td>\n",
       "      <td>NaN</td>\n",
       "      <td>NaN</td>\n",
       "      <td>NaN</td>\n",
       "      <td>NaN</td>\n",
       "      <td>NaN</td>\n",
       "      <td>...</td>\n",
       "      <td>NaN</td>\n",
       "      <td>NaN</td>\n",
       "      <td>NaN</td>\n",
       "      <td>NaN</td>\n",
       "      <td>NaN</td>\n",
       "      <td>NaN</td>\n",
       "      <td>NaN</td>\n",
       "      <td>NaN</td>\n",
       "      <td>NaN</td>\n",
       "      <td>(단위: 천원/3.3㎡)</td>\n",
       "    </tr>\n",
       "    <tr>\n",
       "      <th>1</th>\n",
       "      <td>시도</td>\n",
       "      <td>시군구</td>\n",
       "      <td>12월</td>\n",
       "      <td>1월</td>\n",
       "      <td>2월</td>\n",
       "      <td>3월</td>\n",
       "      <td>4월</td>\n",
       "      <td>5월</td>\n",
       "      <td>6월</td>\n",
       "      <td>7월</td>\n",
       "      <td>...</td>\n",
       "      <td>3월</td>\n",
       "      <td>4월</td>\n",
       "      <td>5월</td>\n",
       "      <td>6월</td>\n",
       "      <td>7월</td>\n",
       "      <td>8월</td>\n",
       "      <td>9월</td>\n",
       "      <td>전월비</td>\n",
       "      <td>전년말비</td>\n",
       "      <td>전년동월비</td>\n",
       "    </tr>\n",
       "    <tr>\n",
       "      <th>2</th>\n",
       "      <td>전국</td>\n",
       "      <td>NaN</td>\n",
       "      <td>8,059</td>\n",
       "      <td>8,130</td>\n",
       "      <td>8,195</td>\n",
       "      <td>8,204</td>\n",
       "      <td>8,289</td>\n",
       "      <td>8,358</td>\n",
       "      <td>8,344</td>\n",
       "      <td>8,333</td>\n",
       "      <td>...</td>\n",
       "      <td>8,563</td>\n",
       "      <td>8,613</td>\n",
       "      <td>8,624</td>\n",
       "      <td>8,627</td>\n",
       "      <td>8,643</td>\n",
       "      <td>8,678</td>\n",
       "      <td>8,665</td>\n",
       "      <td>-13</td>\n",
       "      <td>82</td>\n",
       "      <td>207</td>\n",
       "    </tr>\n",
       "    <tr>\n",
       "      <th>3</th>\n",
       "      <td>서울</td>\n",
       "      <td>NaN</td>\n",
       "      <td>18,189</td>\n",
       "      <td>17,925</td>\n",
       "      <td>17,925</td>\n",
       "      <td>18,016</td>\n",
       "      <td>18,098</td>\n",
       "      <td>19,446</td>\n",
       "      <td>18,867</td>\n",
       "      <td>18,742</td>\n",
       "      <td>...</td>\n",
       "      <td>19,415</td>\n",
       "      <td>18,842</td>\n",
       "      <td>18,367</td>\n",
       "      <td>18,374</td>\n",
       "      <td>18,152</td>\n",
       "      <td>18,443</td>\n",
       "      <td>17,969</td>\n",
       "      <td>-474</td>\n",
       "      <td>-2,300</td>\n",
       "      <td>-1,434</td>\n",
       "    </tr>\n",
       "    <tr>\n",
       "      <th>4</th>\n",
       "      <td>6대광역시</td>\n",
       "      <td>부산</td>\n",
       "      <td>8,111</td>\n",
       "      <td>8,111</td>\n",
       "      <td>9,078</td>\n",
       "      <td>8,965</td>\n",
       "      <td>9,402</td>\n",
       "      <td>9,501</td>\n",
       "      <td>9,453</td>\n",
       "      <td>9,457</td>\n",
       "      <td>...</td>\n",
       "      <td>9,279</td>\n",
       "      <td>9,327</td>\n",
       "      <td>9,345</td>\n",
       "      <td>9,515</td>\n",
       "      <td>9,559</td>\n",
       "      <td>9,581</td>\n",
       "      <td>9,608</td>\n",
       "      <td>1</td>\n",
       "      <td>430</td>\n",
       "      <td>477</td>\n",
       "    </tr>\n",
       "  </tbody>\n",
       "</table>\n",
       "<p>5 rows × 27 columns</p>\n",
       "</div>"
      ],
      "text/plain": [
       "  Unnamed: 0 Unnamed: 1 Unnamed: 2 Unnamed: 3 Unnamed: 4 Unnamed: 5  \\\n",
       "0         구분        NaN      2013년      2014년        NaN        NaN   \n",
       "1         시도        시군구        12월         1월         2월         3월   \n",
       "2         전국        NaN      8,059      8,130      8,195      8,204   \n",
       "3         서울        NaN     18,189     17,925     17,925     18,016   \n",
       "4      6대광역시         부산      8,111      8,111      9,078      8,965   \n",
       "\n",
       "  Unnamed: 6 Unnamed: 7 Unnamed: 8 Unnamed: 9  ... Unnamed: 17 Unnamed: 18  \\\n",
       "0        NaN        NaN        NaN        NaN  ...         NaN         NaN   \n",
       "1         4월         5월         6월         7월  ...          3월          4월   \n",
       "2      8,289      8,358      8,344      8,333  ...       8,563       8,613   \n",
       "3     18,098     19,446     18,867     18,742  ...      19,415      18,842   \n",
       "4      9,402      9,501      9,453      9,457  ...       9,279       9,327   \n",
       "\n",
       "  Unnamed: 19 Unnamed: 20 Unnamed: 21 Unnamed: 22 Unnamed: 23 Unnamed: 24  \\\n",
       "0         NaN         NaN         NaN         NaN         NaN         NaN   \n",
       "1          5월          6월          7월          8월          9월         전월비   \n",
       "2       8,624       8,627       8,643       8,678       8,665        -13    \n",
       "3      18,367      18,374      18,152      18,443      17,969       -474    \n",
       "4       9,345       9,515       9,559       9,581       9,608          1    \n",
       "\n",
       "  Unnamed: 25    Unnamed: 26  \n",
       "0         NaN  (단위: 천원/3.3㎡)  \n",
       "1        전년말비          전년동월비  \n",
       "2         82            207   \n",
       "3     -2,300         -1,434   \n",
       "4        430            477   \n",
       "\n",
       "[5 rows x 27 columns]"
      ]
     },
     "execution_count": 53,
     "metadata": {},
     "output_type": "execute_result"
    }
   ],
   "source": [
    "df.head()"
   ]
  },
  {
   "cell_type": "code",
   "execution_count": 54,
   "metadata": {},
   "outputs": [],
   "source": [
    "# 첫번째 행을 연도, 두번째 행을 월로 지정\n",
    "year = df.iloc[0]\n",
    "month = df.iloc[1]"
   ]
  },
  {
   "cell_type": "markdown",
   "metadata": {},
   "source": [
    "loc : 인덱스 기준으로 행데이터 읽기  \n",
    "iloc : 행번호를 기준으로 행데이터 읽기  \n",
    "참고: https://devpouch.tistory.com/47"
   ]
  },
  {
   "cell_type": "code",
   "execution_count": 55,
   "metadata": {},
   "outputs": [
    {
     "data": {
      "text/plain": [
       "Unnamed: 0                구분\n",
       "Unnamed: 1               NaN\n",
       "Unnamed: 2             2013년\n",
       "Unnamed: 3             2014년\n",
       "Unnamed: 4               NaN\n",
       "Unnamed: 5               NaN\n",
       "Unnamed: 6               NaN\n",
       "Unnamed: 7               NaN\n",
       "Unnamed: 8               NaN\n",
       "Unnamed: 9               NaN\n",
       "Unnamed: 10              NaN\n",
       "Unnamed: 11              NaN\n",
       "Unnamed: 12              NaN\n",
       "Unnamed: 13              NaN\n",
       "Unnamed: 14              NaN\n",
       "Unnamed: 15            2015년\n",
       "Unnamed: 16              NaN\n",
       "Unnamed: 17              NaN\n",
       "Unnamed: 18              NaN\n",
       "Unnamed: 19              NaN\n",
       "Unnamed: 20              NaN\n",
       "Unnamed: 21              NaN\n",
       "Unnamed: 22              NaN\n",
       "Unnamed: 23              NaN\n",
       "Unnamed: 24              NaN\n",
       "Unnamed: 25              NaN\n",
       "Unnamed: 26    (단위: 천원/3.3㎡)\n",
       "Name: 0, dtype: object"
      ]
     },
     "execution_count": 55,
     "metadata": {},
     "output_type": "execute_result"
    }
   ],
   "source": [
    "year"
   ]
  },
  {
   "cell_type": "markdown",
   "metadata": {},
   "source": [
    "* 컬럼을 새로 만들기 위해 0번째와 1번째 행을 합쳐준다"
   ]
  },
  {
   "cell_type": "code",
   "execution_count": 56,
   "metadata": {},
   "outputs": [
    {
     "name": "stdout",
     "output_type": "stream",
     "text": [
      "Unnamed: 0              구분\n",
      "Unnamed: 1             시군구\n",
      "Unnamed: 2       2013년 12월\n",
      "Unnamed: 3        2014년 1월\n",
      "Unnamed: 4        2014년 2월\n",
      "Unnamed: 5        2014년 3월\n",
      "Unnamed: 6        2014년 4월\n",
      "Unnamed: 7        2014년 5월\n",
      "Unnamed: 8        2014년 6월\n",
      "Unnamed: 9        2014년 7월\n",
      "Unnamed: 10       2014년 8월\n",
      "Unnamed: 11       2014년 9월\n",
      "Unnamed: 12      2014년 10월\n",
      "Unnamed: 13      2014년 11월\n",
      "Unnamed: 14      2014년 12월\n",
      "Unnamed: 15       2015년 1월\n",
      "Unnamed: 16       2015년 2월\n",
      "Unnamed: 17       2015년 3월\n",
      "Unnamed: 18       2015년 4월\n",
      "Unnamed: 19       2015년 5월\n",
      "Unnamed: 20       2015년 6월\n",
      "Unnamed: 21       2015년 7월\n",
      "Unnamed: 22       2015년 8월\n",
      "Unnamed: 23       2015년 9월\n",
      "Unnamed: 24      2015년 전월비\n",
      "Unnamed: 25     2015년 전년말비\n",
      "Unnamed: 26    2015년 전년동월비\n",
      "Name: 0, dtype: object\n"
     ]
    }
   ],
   "source": [
    "for i, y in enumerate(year):\n",
    "    if i > 2 and i <15:\n",
    "        year[i] = ' '.join(['2014년', month[i]])\n",
    "    elif i >= 15:\n",
    "        year[i] = ' '.join(['2015년', month[i]])\n",
    "    elif i ==1:\n",
    "        year[i] = '시군구'\n",
    "    elif i==2:\n",
    "        year[i] = ' '.join([year[i], month[i]])\n",
    "        # year[i] = ' '.join(['2013년', month[i]])\n",
    "        \n",
    "print(year)"
   ]
  },
  {
   "cell_type": "markdown",
   "metadata": {},
   "source": [
    "enumerate: '열거하다'의 의미로 리스트가 있는경우 순서와 리스트값을 전달(순서가 있는 자료리턴)  \n",
    "A.join('B', C[i]) # A로 B와 C[i]를 연결한다"
   ]
  },
  {
   "cell_type": "code",
   "execution_count": 57,
   "metadata": {},
   "outputs": [],
   "source": [
    "# 열이름을 지정한다\n",
    "df.columns = year"
   ]
  },
  {
   "cell_type": "code",
   "execution_count": 58,
   "metadata": {},
   "outputs": [],
   "source": [
    "# 기존에 있던 0번째, 1번재 행을 지워 저장한다\n",
    "df = df.drop(df.index[[0,1]])"
   ]
  },
  {
   "cell_type": "markdown",
   "metadata": {},
   "source": [
    "* 지역컬럼을 새로 만들어 시도와 시군구 합치기"
   ]
  },
  {
   "cell_type": "code",
   "execution_count": null,
   "metadata": {},
   "outputs": [],
   "source": [
    "#최근 데이터의 컬럼으로 기존 데이터프레임과 합치기 위해 컬럼명을 확인\n",
    "pre_sale.colunms"
   ]
  },
  {
   "cell_type": "code",
   "execution_count": 59,
   "metadata": {},
   "outputs": [],
   "source": [
    "# 결측치를 빈문자로 채움\n",
    "df['구분'] = df['구분'].fillna('')\n",
    "df['시군구'] = df['시군구'].fillna('')"
   ]
  },
  {
   "cell_type": "code",
   "execution_count": 60,
   "metadata": {},
   "outputs": [
    {
     "data": {
      "text/plain": [
       "2          전국\n",
       "3          서울\n",
       "4     6대광역시부산\n",
       "5          대구\n",
       "6          인천\n",
       "7          광주\n",
       "8          대전\n",
       "9          울산\n",
       "10           \n",
       "11         경기\n",
       "12        수도권\n",
       "13         세종\n",
       "14       지방강원\n",
       "15         충북\n",
       "16         충남\n",
       "17         전북\n",
       "18         전남\n",
       "19         경북\n",
       "20         경남\n",
       "21         제주\n",
       "22           \n",
       "Name: 지역, dtype: object"
      ]
     },
     "execution_count": 60,
     "metadata": {},
     "output_type": "execute_result"
    }
   ],
   "source": [
    "df['지역'] = df['구분'] + df['시군구']\n",
    "df['지역']"
   ]
  },
  {
   "cell_type": "code",
   "execution_count": 61,
   "metadata": {},
   "outputs": [
    {
     "data": {
      "text/plain": [
       "Index(['구분', '시군구', '2013년 12월', '2014년 1월', '2014년 2월', '2014년 3월',\n",
       "       '2014년 4월', '2014년 5월', '2014년 6월', '2014년 7월', '2014년 8월', '2014년 9월',\n",
       "       '2014년 10월', '2014년 11월', '2014년 12월', '2015년 1월', '2015년 2월',\n",
       "       '2015년 3월', '2015년 4월', '2015년 5월', '2015년 6월', '2015년 7월', '2015년 8월',\n",
       "       '2015년 9월', '2015년 전월비', '2015년 전년말비', '2015년 전년동월비', '지역'],\n",
       "      dtype='object', name=0)"
      ]
     },
     "execution_count": 61,
     "metadata": {},
     "output_type": "execute_result"
    }
   ],
   "source": [
    "melt_columns = df.columns.copy()\n",
    "melt_columns"
   ]
  },
  {
   "cell_type": "code",
   "execution_count": 105,
   "metadata": {},
   "outputs": [
    {
     "data": {
      "text/plain": [
       "\u001b[1;31mSignature:\u001b[0m\n",
       "\u001b[0mpd\u001b[0m\u001b[1;33m.\u001b[0m\u001b[0mmelt\u001b[0m\u001b[1;33m(\u001b[0m\u001b[1;33m\n",
       "\u001b[0m    \u001b[0mframe\u001b[0m\u001b[1;33m,\u001b[0m\u001b[1;33m\n",
       "\u001b[0m    \u001b[0mid_vars\u001b[0m\u001b[1;33m=\u001b[0m\u001b[1;32mNone\u001b[0m\u001b[1;33m,\u001b[0m\u001b[1;33m\n",
       "\u001b[0m    \u001b[0mvalue_vars\u001b[0m\u001b[1;33m=\u001b[0m\u001b[1;32mNone\u001b[0m\u001b[1;33m,\u001b[0m\u001b[1;33m\n",
       "\u001b[0m    \u001b[0mvar_name\u001b[0m\u001b[1;33m=\u001b[0m\u001b[1;32mNone\u001b[0m\u001b[1;33m,\u001b[0m\u001b[1;33m\n",
       "\u001b[0m    \u001b[0mvalue_name\u001b[0m\u001b[1;33m=\u001b[0m\u001b[1;34m'value'\u001b[0m\u001b[1;33m,\u001b[0m\u001b[1;33m\n",
       "\u001b[0m    \u001b[0mcol_level\u001b[0m\u001b[1;33m=\u001b[0m\u001b[1;32mNone\u001b[0m\u001b[1;33m,\u001b[0m\u001b[1;33m\n",
       "\u001b[0m\u001b[1;33m)\u001b[0m\u001b[1;33m\u001b[0m\u001b[1;33m\u001b[0m\u001b[0m\n",
       "\u001b[1;31mDocstring:\u001b[0m\n",
       "Unpivot a DataFrame from wide format to long format, optionally\n",
       "leaving identifier variables set.\n",
       "\n",
       "This function is useful to massage a DataFrame into a format where one\n",
       "or more columns are identifier variables (`id_vars`), while all other\n",
       "columns, considered measured variables (`value_vars`), are \"unpivoted\" to\n",
       "the row axis, leaving just two non-identifier columns, 'variable' and\n",
       "'value'.\n",
       "\n",
       "Parameters\n",
       "----------\n",
       "frame : DataFrame\n",
       "id_vars : tuple, list, or ndarray, optional\n",
       "    Column(s) to use as identifier variables.\n",
       "value_vars : tuple, list, or ndarray, optional\n",
       "    Column(s) to unpivot. If not specified, uses all columns that\n",
       "    are not set as `id_vars`.\n",
       "var_name : scalar\n",
       "    Name to use for the 'variable' column. If None it uses\n",
       "    ``frame.columns.name`` or 'variable'.\n",
       "value_name : scalar, default 'value'\n",
       "    Name to use for the 'value' column.\n",
       "col_level : int or string, optional\n",
       "    If columns are a MultiIndex then use this level to melt.\n",
       "\n",
       "Returns\n",
       "-------\n",
       "DataFrame\n",
       "    Unpivoted DataFrame.\n",
       "\n",
       "See Also\n",
       "--------\n",
       "DataFrame.melt\n",
       "pivot_table\n",
       "DataFrame.pivot\n",
       "Series.explode\n",
       "\n",
       "Examples\n",
       "--------\n",
       ">>> df = pd.DataFrame({'A': {0: 'a', 1: 'b', 2: 'c'},\n",
       "...                    'B': {0: 1, 1: 3, 2: 5},\n",
       "...                    'C': {0: 2, 1: 4, 2: 6}})\n",
       ">>> df\n",
       "   A  B  C\n",
       "0  a  1  2\n",
       "1  b  3  4\n",
       "2  c  5  6\n",
       "\n",
       ">>> pd.melt(df, id_vars=['A'], value_vars=['B'])\n",
       "   A variable  value\n",
       "0  a        B      1\n",
       "1  b        B      3\n",
       "2  c        B      5\n",
       "\n",
       ">>> pd.melt(df, id_vars=['A'], value_vars=['B', 'C'])\n",
       "   A variable  value\n",
       "0  a        B      1\n",
       "1  b        B      3\n",
       "2  c        B      5\n",
       "3  a        C      2\n",
       "4  b        C      4\n",
       "5  c        C      6\n",
       "\n",
       "The names of 'variable' and 'value' columns can be customized:\n",
       "\n",
       ">>> pd.melt(df, id_vars=['A'], value_vars=['B'],\n",
       "...         var_name='myVarname', value_name='myValname')\n",
       "   A myVarname  myValname\n",
       "0  a         B          1\n",
       "1  b         B          3\n",
       "2  c         B          5\n",
       "\n",
       "If you have multi-index columns:\n",
       "\n",
       ">>> df.columns = [list('ABC'), list('DEF')]\n",
       ">>> df\n",
       "   A  B  C\n",
       "   D  E  F\n",
       "0  a  1  2\n",
       "1  b  3  4\n",
       "2  c  5  6\n",
       "\n",
       ">>> pd.melt(df, col_level=0, id_vars=['A'], value_vars=['B'])\n",
       "   A variable  value\n",
       "0  a        B      1\n",
       "1  b        B      3\n",
       "2  c        B      5\n",
       "\n",
       ">>> pd.melt(df, id_vars=[('A', 'D')], value_vars=[('B', 'E')])\n",
       "  (A, D) variable_0 variable_1  value\n",
       "0      a          B          E      1\n",
       "1      b          B          E      3\n",
       "2      c          B          E      5\n",
       "\u001b[1;31mFile:\u001b[0m      c:\\users\\seoyu\\anaconda3\\lib\\site-packages\\pandas\\core\\reshape\\melt.py\n",
       "\u001b[1;31mType:\u001b[0m      function\n"
      ]
     },
     "metadata": {},
     "output_type": "display_data"
    }
   ],
   "source": [
    "pd.melt?"
   ]
  },
  {
   "cell_type": "code",
   "execution_count": 62,
   "metadata": {},
   "outputs": [
    {
     "data": {
      "text/html": [
       "<div>\n",
       "<style scoped>\n",
       "    .dataframe tbody tr th:only-of-type {\n",
       "        vertical-align: middle;\n",
       "    }\n",
       "\n",
       "    .dataframe tbody tr th {\n",
       "        vertical-align: top;\n",
       "    }\n",
       "\n",
       "    .dataframe thead th {\n",
       "        text-align: right;\n",
       "    }\n",
       "</style>\n",
       "<table border=\"1\" class=\"dataframe\">\n",
       "  <thead>\n",
       "    <tr style=\"text-align: right;\">\n",
       "      <th></th>\n",
       "      <th>지역명</th>\n",
       "      <th>규모구분</th>\n",
       "      <th>연도</th>\n",
       "      <th>월</th>\n",
       "      <th>분양가격(㎡)</th>\n",
       "      <th>분양가격</th>\n",
       "      <th>평당분양가격</th>\n",
       "    </tr>\n",
       "  </thead>\n",
       "  <tbody>\n",
       "    <tr>\n",
       "      <th>0</th>\n",
       "      <td>서울</td>\n",
       "      <td>전체</td>\n",
       "      <td>2015</td>\n",
       "      <td>10</td>\n",
       "      <td>5841</td>\n",
       "      <td>5,841</td>\n",
       "      <td>19,275</td>\n",
       "    </tr>\n",
       "    <tr>\n",
       "      <th>1</th>\n",
       "      <td>서울</td>\n",
       "      <td>전용면적 60㎡이하</td>\n",
       "      <td>2015</td>\n",
       "      <td>10</td>\n",
       "      <td>5652</td>\n",
       "      <td>5,652</td>\n",
       "      <td>18,652</td>\n",
       "    </tr>\n",
       "    <tr>\n",
       "      <th>2</th>\n",
       "      <td>서울</td>\n",
       "      <td>전용면적 60㎡초과 85㎡이하</td>\n",
       "      <td>2015</td>\n",
       "      <td>10</td>\n",
       "      <td>5882</td>\n",
       "      <td>5,882</td>\n",
       "      <td>19,411</td>\n",
       "    </tr>\n",
       "    <tr>\n",
       "      <th>3</th>\n",
       "      <td>서울</td>\n",
       "      <td>전용면적 85㎡초과 102㎡이하</td>\n",
       "      <td>2015</td>\n",
       "      <td>10</td>\n",
       "      <td>5721</td>\n",
       "      <td>5,721</td>\n",
       "      <td>18,879</td>\n",
       "    </tr>\n",
       "    <tr>\n",
       "      <th>4</th>\n",
       "      <td>서울</td>\n",
       "      <td>전용면적 102㎡초과</td>\n",
       "      <td>2015</td>\n",
       "      <td>10</td>\n",
       "      <td>5879</td>\n",
       "      <td>5,879</td>\n",
       "      <td>19,401</td>\n",
       "    </tr>\n",
       "  </tbody>\n",
       "</table>\n",
       "</div>"
      ],
      "text/plain": [
       "  지역명               규모구분    연도   월 분양가격(㎡)  분양가격  평당분양가격\n",
       "0  서울                 전체  2015  10    5841 5,841  19,275\n",
       "1  서울         전용면적 60㎡이하  2015  10    5652 5,652  18,652\n",
       "2  서울   전용면적 60㎡초과 85㎡이하  2015  10    5882 5,882  19,411\n",
       "3  서울  전용면적 85㎡초과 102㎡이하  2015  10    5721 5,721  18,879\n",
       "4  서울        전용면적 102㎡초과  2015  10    5879 5,879  19,401"
      ]
     },
     "execution_count": 62,
     "metadata": {},
     "output_type": "execute_result"
    }
   ],
   "source": [
    "pre_sale.head()"
   ]
  },
  {
   "cell_type": "code",
   "execution_count": 63,
   "metadata": {},
   "outputs": [
    {
     "data": {
      "text/html": [
       "<div>\n",
       "<style scoped>\n",
       "    .dataframe tbody tr th:only-of-type {\n",
       "        vertical-align: middle;\n",
       "    }\n",
       "\n",
       "    .dataframe tbody tr th {\n",
       "        vertical-align: top;\n",
       "    }\n",
       "\n",
       "    .dataframe thead th {\n",
       "        text-align: right;\n",
       "    }\n",
       "</style>\n",
       "<table border=\"1\" class=\"dataframe\">\n",
       "  <thead>\n",
       "    <tr style=\"text-align: right;\">\n",
       "      <th></th>\n",
       "      <th>지역</th>\n",
       "      <th>0</th>\n",
       "      <th>value</th>\n",
       "    </tr>\n",
       "  </thead>\n",
       "  <tbody>\n",
       "    <tr>\n",
       "      <th>0</th>\n",
       "      <td>전국</td>\n",
       "      <td>2013년 12월</td>\n",
       "      <td>8,059</td>\n",
       "    </tr>\n",
       "    <tr>\n",
       "      <th>1</th>\n",
       "      <td>서울</td>\n",
       "      <td>2013년 12월</td>\n",
       "      <td>18,189</td>\n",
       "    </tr>\n",
       "    <tr>\n",
       "      <th>2</th>\n",
       "      <td>6대광역시부산</td>\n",
       "      <td>2013년 12월</td>\n",
       "      <td>8,111</td>\n",
       "    </tr>\n",
       "    <tr>\n",
       "      <th>3</th>\n",
       "      <td>대구</td>\n",
       "      <td>2013년 12월</td>\n",
       "      <td>8,080</td>\n",
       "    </tr>\n",
       "    <tr>\n",
       "      <th>4</th>\n",
       "      <td>인천</td>\n",
       "      <td>2013년 12월</td>\n",
       "      <td>10,204</td>\n",
       "    </tr>\n",
       "  </tbody>\n",
       "</table>\n",
       "</div>"
      ],
      "text/plain": [
       "        지역          0   value\n",
       "0       전국  2013년 12월   8,059\n",
       "1       서울  2013년 12월  18,189\n",
       "2  6대광역시부산  2013년 12월   8,111\n",
       "3       대구  2013년 12월   8,080\n",
       "4       인천  2013년 12월  10,204"
      ]
     },
     "execution_count": 63,
     "metadata": {},
     "output_type": "execute_result"
    }
   ],
   "source": [
    "df_2013_2015 = pd.melt(df, id_vars=['지역'], value_vars=['2013년 12월', '2014년 1월', '2014년 2월', '2014년 3월',\n",
    "       '2014년 4월', '2014년 5월', '2014년 6월', '2014년 7월', '2014년 8월',\n",
    "       '2014년 9월', '2014년 10월', '2014년 11월', '2014년 12월', '2015년 1월',\n",
    "       '2015년 2월', '2015년 3월', '2015년 4월', '2015년 5월', '2015년 6월',\n",
    "       '2015년 7월', '2015년 8월', '2015년 9월'])\n",
    "\n",
    "df_2013_2015.head()"
   ]
  },
  {
   "cell_type": "markdown",
   "metadata": {},
   "source": [
    "melt: 자료의 재구조화\n",
    "![title](https://t1.daumcdn.net/cfile/tistory/25177F4E5863D58A0C)"
   ]
  },
  {
   "cell_type": "code",
   "execution_count": 64,
   "metadata": {},
   "outputs": [
    {
     "data": {
      "text/plain": [
       "'12'"
      ]
     },
     "execution_count": 64,
     "metadata": {},
     "output_type": "execute_result"
    }
   ],
   "source": [
    "year_test = ['2013', '12월']\n",
    "year_test[1].strip().replace('월','')"
   ]
  },
  {
   "cell_type": "code",
   "execution_count": 65,
   "metadata": {},
   "outputs": [
    {
     "data": {
      "text/html": [
       "<div>\n",
       "<style scoped>\n",
       "    .dataframe tbody tr th:only-of-type {\n",
       "        vertical-align: middle;\n",
       "    }\n",
       "\n",
       "    .dataframe tbody tr th {\n",
       "        vertical-align: top;\n",
       "    }\n",
       "\n",
       "    .dataframe thead th {\n",
       "        text-align: right;\n",
       "    }\n",
       "</style>\n",
       "<table border=\"1\" class=\"dataframe\">\n",
       "  <thead>\n",
       "    <tr style=\"text-align: right;\">\n",
       "      <th></th>\n",
       "      <th>지역</th>\n",
       "      <th>기간</th>\n",
       "      <th>분양가</th>\n",
       "    </tr>\n",
       "  </thead>\n",
       "  <tbody>\n",
       "    <tr>\n",
       "      <th>0</th>\n",
       "      <td>전국</td>\n",
       "      <td>2013년 12월</td>\n",
       "      <td>8,059</td>\n",
       "    </tr>\n",
       "    <tr>\n",
       "      <th>1</th>\n",
       "      <td>서울</td>\n",
       "      <td>2013년 12월</td>\n",
       "      <td>18,189</td>\n",
       "    </tr>\n",
       "    <tr>\n",
       "      <th>2</th>\n",
       "      <td>6대광역시부산</td>\n",
       "      <td>2013년 12월</td>\n",
       "      <td>8,111</td>\n",
       "    </tr>\n",
       "    <tr>\n",
       "      <th>3</th>\n",
       "      <td>대구</td>\n",
       "      <td>2013년 12월</td>\n",
       "      <td>8,080</td>\n",
       "    </tr>\n",
       "    <tr>\n",
       "      <th>4</th>\n",
       "      <td>인천</td>\n",
       "      <td>2013년 12월</td>\n",
       "      <td>10,204</td>\n",
       "    </tr>\n",
       "  </tbody>\n",
       "</table>\n",
       "</div>"
      ],
      "text/plain": [
       "        지역         기간     분양가\n",
       "0       전국  2013년 12월   8,059\n",
       "1       서울  2013년 12월  18,189\n",
       "2  6대광역시부산  2013년 12월   8,111\n",
       "3       대구  2013년 12월   8,080\n",
       "4       인천  2013년 12월  10,204"
      ]
     },
     "execution_count": 65,
     "metadata": {},
     "output_type": "execute_result"
    }
   ],
   "source": [
    "df_2013_2015.columns = ['지역', '기간', '분양가']\n",
    "df_2013_2015.head()"
   ]
  },
  {
   "cell_type": "code",
   "execution_count": 113,
   "metadata": {},
   "outputs": [
    {
     "name": "stdout",
     "output_type": "stream",
     "text": [
      "구분\n",
      "시군구\n",
      "2013\n",
      "2014\n",
      "2014\n",
      "2014\n",
      "2014\n",
      "2014\n",
      "2014\n",
      "2014\n",
      "2014\n",
      "2014\n",
      "2014\n",
      "2014\n",
      "2014\n",
      "2015\n",
      "2015\n",
      "2015\n",
      "2015\n",
      "2015\n",
      "2015\n",
      "2015\n",
      "2015\n",
      "2015\n",
      "2015\n",
      "2015\n",
      "2015\n"
     ]
    },
    {
     "data": {
      "text/plain": [
       "'12'"
      ]
     },
     "execution_count": 113,
     "metadata": {},
     "output_type": "execute_result"
    }
   ],
   "source": [
    "#'년'을 기준으로 분리 -> 그중 첫번째가 연도를 나타냄\n",
    "for y in year:\n",
    "    print(y.split('년')[0])\n",
    "    \n",
    "year_test = ['2013', '12월']\n",
    "# 공백을 제거하여 문자열로 출력\n",
    "year_test[1].strip()\n",
    "\n",
    "#'월'을 제거하고 출력(replace: 문자열 제거 및 수정)\n",
    "#replace(old,new,[count])\n",
    "year_test[1].strip().replace('월', '')"
   ]
  },
  {
   "cell_type": "code",
   "execution_count": 66,
   "metadata": {},
   "outputs": [],
   "source": [
    "df_2013_2015['연도'] = df_2013_2015['기간'].apply(\n",
    "    lambda year_month : year_month.split('년')[0])\n",
    "\n",
    "df_2013_2015['월'] = df_2013_2015['기간'].apply(\n",
    "    lambda year_month : re.sub('월', '', year_month.split('년')[1]).strip())"
   ]
  },
  {
   "cell_type": "raw",
   "metadata": {},
   "source": [
    "def get_year(year_month):\n",
    "    year = year_month.split('년')[0]\n",
    "    return year\n",
    "\n",
    "def get_month(year_month):\n",
    "    month = re.sub('월', '', year_month.split('년')[1]).strip()\n",
    "    return month\n",
    "\n",
    "df_2013_2015['연도'] = df_2013_2015['기간'].apply(get_year)\n",
    "df_2013_2015['월'] = df_2013_2015['기간'].apply(get_month)"
   ]
  },
  {
   "cell_type": "code",
   "execution_count": 67,
   "metadata": {},
   "outputs": [
    {
     "data": {
      "text/html": [
       "<div>\n",
       "<style scoped>\n",
       "    .dataframe tbody tr th:only-of-type {\n",
       "        vertical-align: middle;\n",
       "    }\n",
       "\n",
       "    .dataframe tbody tr th {\n",
       "        vertical-align: top;\n",
       "    }\n",
       "\n",
       "    .dataframe thead th {\n",
       "        text-align: right;\n",
       "    }\n",
       "</style>\n",
       "<table border=\"1\" class=\"dataframe\">\n",
       "  <thead>\n",
       "    <tr style=\"text-align: right;\">\n",
       "      <th></th>\n",
       "      <th>지역</th>\n",
       "      <th>기간</th>\n",
       "      <th>분양가</th>\n",
       "      <th>연도</th>\n",
       "      <th>월</th>\n",
       "    </tr>\n",
       "  </thead>\n",
       "  <tbody>\n",
       "    <tr>\n",
       "      <th>0</th>\n",
       "      <td>전국</td>\n",
       "      <td>2013년 12월</td>\n",
       "      <td>8,059</td>\n",
       "      <td>2013</td>\n",
       "      <td>12</td>\n",
       "    </tr>\n",
       "    <tr>\n",
       "      <th>1</th>\n",
       "      <td>서울</td>\n",
       "      <td>2013년 12월</td>\n",
       "      <td>18,189</td>\n",
       "      <td>2013</td>\n",
       "      <td>12</td>\n",
       "    </tr>\n",
       "    <tr>\n",
       "      <th>2</th>\n",
       "      <td>6대광역시부산</td>\n",
       "      <td>2013년 12월</td>\n",
       "      <td>8,111</td>\n",
       "      <td>2013</td>\n",
       "      <td>12</td>\n",
       "    </tr>\n",
       "    <tr>\n",
       "      <th>3</th>\n",
       "      <td>대구</td>\n",
       "      <td>2013년 12월</td>\n",
       "      <td>8,080</td>\n",
       "      <td>2013</td>\n",
       "      <td>12</td>\n",
       "    </tr>\n",
       "    <tr>\n",
       "      <th>4</th>\n",
       "      <td>인천</td>\n",
       "      <td>2013년 12월</td>\n",
       "      <td>10,204</td>\n",
       "      <td>2013</td>\n",
       "      <td>12</td>\n",
       "    </tr>\n",
       "  </tbody>\n",
       "</table>\n",
       "</div>"
      ],
      "text/plain": [
       "        지역         기간     분양가    연도   월\n",
       "0       전국  2013년 12월   8,059  2013  12\n",
       "1       서울  2013년 12월  18,189  2013  12\n",
       "2  6대광역시부산  2013년 12월   8,111  2013  12\n",
       "3       대구  2013년 12월   8,080  2013  12\n",
       "4       인천  2013년 12월  10,204  2013  12"
      ]
     },
     "execution_count": 67,
     "metadata": {},
     "output_type": "execute_result"
    }
   ],
   "source": [
    "df_2013_2015.head()"
   ]
  },
  {
   "cell_type": "markdown",
   "metadata": {},
   "source": [
    "* 지역명 정리하기"
   ]
  },
  {
   "cell_type": "code",
   "execution_count": 68,
   "metadata": {},
   "outputs": [
    {
     "data": {
      "text/plain": [
       "           44\n",
       "전국         22\n",
       "경기         22\n",
       "세종         22\n",
       "인천         22\n",
       "울산         22\n",
       "충북         22\n",
       "제주         22\n",
       "전남         22\n",
       "대구         22\n",
       "대전         22\n",
       "충남         22\n",
       "수도권        22\n",
       "경북         22\n",
       "서울         22\n",
       "지방강원       22\n",
       "6대광역시부산    22\n",
       "전북         22\n",
       "광주         22\n",
       "경남         22\n",
       "Name: 지역, dtype: int64"
      ]
     },
     "execution_count": 68,
     "metadata": {},
     "output_type": "execute_result"
    }
   ],
   "source": [
    "df_2013_2015['지역'].value_counts()"
   ]
  },
  {
   "cell_type": "code",
   "execution_count": 69,
   "metadata": {},
   "outputs": [
    {
     "data": {
      "text/plain": [
       "       44\n",
       "전국     22\n",
       "경기     22\n",
       "강원     22\n",
       "세종     22\n",
       "인천     22\n",
       "경남     22\n",
       "울산     22\n",
       "충북     22\n",
       "제주     22\n",
       "대전     22\n",
       "대구     22\n",
       "부산     22\n",
       "충남     22\n",
       "수도권    22\n",
       "경북     22\n",
       "서울     22\n",
       "전북     22\n",
       "광주     22\n",
       "전남     22\n",
       "Name: 지역, dtype: int64"
      ]
     },
     "execution_count": 69,
     "metadata": {},
     "output_type": "execute_result"
    }
   ],
   "source": [
    "df_2013_2015['지역'] = df_2013_2015['지역'].replace('6대광역시부산', '부산')\n",
    "df_2013_2015['지역'] = df_2013_2015['지역'].replace('지방강원', '강원')\n",
    "\n",
    "df_2013_2015['지역'].value_counts()"
   ]
  },
  {
   "cell_type": "raw",
   "metadata": {},
   "source": [
    "df_2013_2015['지역'] = df_2013_2015['지역'].apply(lambda x: re.sub('6대광역시부산','부산', x))\n",
    "df_2013_2015['지역'] = df_2013_2015['지역'].apply(lambda x: re.sub('지방강원','강원', x))"
   ]
  },
  {
   "cell_type": "markdown",
   "metadata": {},
   "source": [
    "* 분양가에 있는 ,제거하기 + 숫자타입으로 바꿔주기"
   ]
  },
  {
   "cell_type": "code",
   "execution_count": 70,
   "metadata": {},
   "outputs": [],
   "source": [
    "df_2013_2015['분양가격'] = df_2013_2015['분양가'].str.replace(',','').astype(int)"
   ]
  },
  {
   "cell_type": "code",
   "execution_count": 71,
   "metadata": {},
   "outputs": [
    {
     "name": "stdout",
     "output_type": "stream",
     "text": [
      "<class 'pandas.core.frame.DataFrame'>\n",
      "RangeIndex: 462 entries, 0 to 461\n",
      "Data columns (total 6 columns):\n",
      "지역      462 non-null object\n",
      "기간      462 non-null object\n",
      "분양가     462 non-null object\n",
      "연도      462 non-null object\n",
      "월       462 non-null object\n",
      "분양가격    462 non-null int32\n",
      "dtypes: int32(1), object(5)\n",
      "memory usage: 20.0+ KB\n"
     ]
    }
   ],
   "source": [
    "df_2013_2015.info()"
   ]
  },
  {
   "cell_type": "code",
   "execution_count": 72,
   "metadata": {},
   "outputs": [
    {
     "data": {
      "text/plain": [
       "<matplotlib.axes._subplots.AxesSubplot at 0x210ca99e0f0>"
      ]
     },
     "execution_count": 72,
     "metadata": {},
     "output_type": "execute_result"
    },
    {
     "data": {
      "image/png": "[encoded data removed]",
      "text/plain": [
       "<Figure size 1296x432 with 1 Axes>"
      ]
     },
     "metadata": {},
     "output_type": "display_data"
    }
   ],
   "source": [
    "plt.figure(figsize=(18,6))\n",
    "sns.boxplot(data=df_2013_2015, x='지역', y='분양가격', hue='연도')"
   ]
  },
  {
   "cell_type": "code",
   "execution_count": 73,
   "metadata": {},
   "outputs": [
    {
     "data": {
      "text/plain": [
       "<matplotlib.axes._subplots.AxesSubplot at 0x210c6e9cb38>"
      ]
     },
     "execution_count": 73,
     "metadata": {},
     "output_type": "execute_result"
    },
    {
     "data": {
      "image/png": "[encoded data removed]",
      "text/plain": [
       "<Figure size 1296x432 with 1 Axes>"
      ]
     },
     "metadata": {},
     "output_type": "display_data"
    }
   ],
   "source": [
    "plt.figure(figsize=(18,6))\n",
    "sns.barplot(data=df_2013_2015, x='지역', y='분양가격', hue='연도')"
   ]
  },
  {
   "cell_type": "code",
   "execution_count": 74,
   "metadata": {},
   "outputs": [
    {
     "data": {
      "text/plain": [
       "(462, 6)"
      ]
     },
     "execution_count": 74,
     "metadata": {},
     "output_type": "execute_result"
    }
   ],
   "source": [
    "df_2013_2015[df_2013_2015.isnull()].shape"
   ]
  },
  {
   "cell_type": "markdown",
   "metadata": {},
   "source": [
    "## 2013년 ~ 2018년 7월까지 데이터 합치기"
   ]
  },
  {
   "cell_type": "code",
   "execution_count": 75,
   "metadata": {},
   "outputs": [
    {
     "name": "stdout",
     "output_type": "stream",
     "text": [
      "(578, 7)\n"
     ]
    },
    {
     "data": {
      "text/html": [
       "<div>\n",
       "<style scoped>\n",
       "    .dataframe tbody tr th:only-of-type {\n",
       "        vertical-align: middle;\n",
       "    }\n",
       "\n",
       "    .dataframe tbody tr th {\n",
       "        vertical-align: top;\n",
       "    }\n",
       "\n",
       "    .dataframe thead th {\n",
       "        text-align: right;\n",
       "    }\n",
       "</style>\n",
       "<table border=\"1\" class=\"dataframe\">\n",
       "  <thead>\n",
       "    <tr style=\"text-align: right;\">\n",
       "      <th></th>\n",
       "      <th>지역명</th>\n",
       "      <th>규모구분</th>\n",
       "      <th>연도</th>\n",
       "      <th>월</th>\n",
       "      <th>분양가격(㎡)</th>\n",
       "      <th>분양가격</th>\n",
       "      <th>평당분양가격</th>\n",
       "    </tr>\n",
       "  </thead>\n",
       "  <tbody>\n",
       "    <tr>\n",
       "      <th>0</th>\n",
       "      <td>서울</td>\n",
       "      <td>전체</td>\n",
       "      <td>2015</td>\n",
       "      <td>10</td>\n",
       "      <td>5841</td>\n",
       "      <td>5,841</td>\n",
       "      <td>19,275</td>\n",
       "    </tr>\n",
       "    <tr>\n",
       "      <th>5</th>\n",
       "      <td>인천</td>\n",
       "      <td>전체</td>\n",
       "      <td>2015</td>\n",
       "      <td>10</td>\n",
       "      <td>3163</td>\n",
       "      <td>3,163</td>\n",
       "      <td>10,438</td>\n",
       "    </tr>\n",
       "    <tr>\n",
       "      <th>10</th>\n",
       "      <td>경기</td>\n",
       "      <td>전체</td>\n",
       "      <td>2015</td>\n",
       "      <td>10</td>\n",
       "      <td>3138</td>\n",
       "      <td>3,138</td>\n",
       "      <td>10,355</td>\n",
       "    </tr>\n",
       "    <tr>\n",
       "      <th>15</th>\n",
       "      <td>부산</td>\n",
       "      <td>전체</td>\n",
       "      <td>2015</td>\n",
       "      <td>10</td>\n",
       "      <td>3112</td>\n",
       "      <td>3,112</td>\n",
       "      <td>10,270</td>\n",
       "    </tr>\n",
       "    <tr>\n",
       "      <th>20</th>\n",
       "      <td>대구</td>\n",
       "      <td>전체</td>\n",
       "      <td>2015</td>\n",
       "      <td>10</td>\n",
       "      <td>2682</td>\n",
       "      <td>2,682</td>\n",
       "      <td>8,851</td>\n",
       "    </tr>\n",
       "  </tbody>\n",
       "</table>\n",
       "</div>"
      ],
      "text/plain": [
       "   지역명 규모구분    연도   월 분양가격(㎡)  분양가격  평당분양가격\n",
       "0   서울   전체  2015  10    5841 5,841  19,275\n",
       "5   인천   전체  2015  10    3163 3,163  10,438\n",
       "10  경기   전체  2015  10    3138 3,138  10,355\n",
       "15  부산   전체  2015  10    3112 3,112  10,270\n",
       "20  대구   전체  2015  10    2682 2,682   8,851"
      ]
     },
     "execution_count": 75,
     "metadata": {},
     "output_type": "execute_result"
    }
   ],
   "source": [
    "df_2015_2018 = pre_sale.loc[pre_sale['규모구분'] == '전체']\n",
    "print(df_2015_2018.shape)\n",
    "df_2015_2018.head()"
   ]
  },
  {
   "cell_type": "code",
   "execution_count": 76,
   "metadata": {},
   "outputs": [
    {
     "data": {
      "text/plain": [
       "Index(['지역', '기간', '분양가', '연도', '월', '분양가격'], dtype='object')"
      ]
     },
     "execution_count": 76,
     "metadata": {},
     "output_type": "execute_result"
    }
   ],
   "source": [
    "df_2013_2015.columns"
   ]
  },
  {
   "cell_type": "code",
   "execution_count": 77,
   "metadata": {},
   "outputs": [],
   "source": [
    "df_2013_2015_prepare = df_2013_2015[['지역', '연도', '월', '분양가격']]"
   ]
  },
  {
   "cell_type": "code",
   "execution_count": 78,
   "metadata": {},
   "outputs": [
    {
     "data": {
      "text/html": [
       "<div>\n",
       "<style scoped>\n",
       "    .dataframe tbody tr th:only-of-type {\n",
       "        vertical-align: middle;\n",
       "    }\n",
       "\n",
       "    .dataframe tbody tr th {\n",
       "        vertical-align: top;\n",
       "    }\n",
       "\n",
       "    .dataframe thead th {\n",
       "        text-align: right;\n",
       "    }\n",
       "</style>\n",
       "<table border=\"1\" class=\"dataframe\">\n",
       "  <thead>\n",
       "    <tr style=\"text-align: right;\">\n",
       "      <th></th>\n",
       "      <th>지역명</th>\n",
       "      <th>연도</th>\n",
       "      <th>월</th>\n",
       "      <th>평당분양가격</th>\n",
       "    </tr>\n",
       "  </thead>\n",
       "  <tbody>\n",
       "    <tr>\n",
       "      <th>0</th>\n",
       "      <td>전국</td>\n",
       "      <td>2013</td>\n",
       "      <td>12</td>\n",
       "      <td>8059</td>\n",
       "    </tr>\n",
       "    <tr>\n",
       "      <th>1</th>\n",
       "      <td>서울</td>\n",
       "      <td>2013</td>\n",
       "      <td>12</td>\n",
       "      <td>18189</td>\n",
       "    </tr>\n",
       "    <tr>\n",
       "      <th>2</th>\n",
       "      <td>부산</td>\n",
       "      <td>2013</td>\n",
       "      <td>12</td>\n",
       "      <td>8111</td>\n",
       "    </tr>\n",
       "    <tr>\n",
       "      <th>3</th>\n",
       "      <td>대구</td>\n",
       "      <td>2013</td>\n",
       "      <td>12</td>\n",
       "      <td>8080</td>\n",
       "    </tr>\n",
       "    <tr>\n",
       "      <th>4</th>\n",
       "      <td>인천</td>\n",
       "      <td>2013</td>\n",
       "      <td>12</td>\n",
       "      <td>10204</td>\n",
       "    </tr>\n",
       "  </tbody>\n",
       "</table>\n",
       "</div>"
      ],
      "text/plain": [
       "  지역명    연도   월  평당분양가격\n",
       "0  전국  2013  12    8059\n",
       "1  서울  2013  12   18189\n",
       "2  부산  2013  12    8111\n",
       "3  대구  2013  12    8080\n",
       "4  인천  2013  12   10204"
      ]
     },
     "execution_count": 78,
     "metadata": {},
     "output_type": "execute_result"
    }
   ],
   "source": [
    "df_2013_2015_prepare.columns = ['지역명', '연도','월', '평당분양가격']\n",
    "df_2013_2015_prepare.head()"
   ]
  },
  {
   "cell_type": "code",
   "execution_count": 79,
   "metadata": {},
   "outputs": [
    {
     "data": {
      "text/html": [
       "<div>\n",
       "<style scoped>\n",
       "    .dataframe tbody tr th:only-of-type {\n",
       "        vertical-align: middle;\n",
       "    }\n",
       "\n",
       "    .dataframe tbody tr th {\n",
       "        vertical-align: top;\n",
       "    }\n",
       "\n",
       "    .dataframe thead th {\n",
       "        text-align: right;\n",
       "    }\n",
       "</style>\n",
       "<table border=\"1\" class=\"dataframe\">\n",
       "  <thead>\n",
       "    <tr style=\"text-align: right;\">\n",
       "      <th></th>\n",
       "      <th>지역명</th>\n",
       "      <th>규모구분</th>\n",
       "      <th>연도</th>\n",
       "      <th>월</th>\n",
       "      <th>분양가격(㎡)</th>\n",
       "      <th>분양가격</th>\n",
       "      <th>평당분양가격</th>\n",
       "    </tr>\n",
       "  </thead>\n",
       "  <tbody>\n",
       "    <tr>\n",
       "      <th>0</th>\n",
       "      <td>서울</td>\n",
       "      <td>전체</td>\n",
       "      <td>2015</td>\n",
       "      <td>10</td>\n",
       "      <td>5841</td>\n",
       "      <td>5,841</td>\n",
       "      <td>19,275</td>\n",
       "    </tr>\n",
       "    <tr>\n",
       "      <th>5</th>\n",
       "      <td>인천</td>\n",
       "      <td>전체</td>\n",
       "      <td>2015</td>\n",
       "      <td>10</td>\n",
       "      <td>3163</td>\n",
       "      <td>3,163</td>\n",
       "      <td>10,438</td>\n",
       "    </tr>\n",
       "    <tr>\n",
       "      <th>10</th>\n",
       "      <td>경기</td>\n",
       "      <td>전체</td>\n",
       "      <td>2015</td>\n",
       "      <td>10</td>\n",
       "      <td>3138</td>\n",
       "      <td>3,138</td>\n",
       "      <td>10,355</td>\n",
       "    </tr>\n",
       "    <tr>\n",
       "      <th>15</th>\n",
       "      <td>부산</td>\n",
       "      <td>전체</td>\n",
       "      <td>2015</td>\n",
       "      <td>10</td>\n",
       "      <td>3112</td>\n",
       "      <td>3,112</td>\n",
       "      <td>10,270</td>\n",
       "    </tr>\n",
       "    <tr>\n",
       "      <th>20</th>\n",
       "      <td>대구</td>\n",
       "      <td>전체</td>\n",
       "      <td>2015</td>\n",
       "      <td>10</td>\n",
       "      <td>2682</td>\n",
       "      <td>2,682</td>\n",
       "      <td>8,851</td>\n",
       "    </tr>\n",
       "    <tr>\n",
       "      <th>...</th>\n",
       "      <td>...</td>\n",
       "      <td>...</td>\n",
       "      <td>...</td>\n",
       "      <td>...</td>\n",
       "      <td>...</td>\n",
       "      <td>...</td>\n",
       "      <td>...</td>\n",
       "    </tr>\n",
       "    <tr>\n",
       "      <th>2865</th>\n",
       "      <td>전북</td>\n",
       "      <td>전체</td>\n",
       "      <td>2018</td>\n",
       "      <td>7</td>\n",
       "      <td>2333</td>\n",
       "      <td>2,333</td>\n",
       "      <td>7,699</td>\n",
       "    </tr>\n",
       "    <tr>\n",
       "      <th>2870</th>\n",
       "      <td>전남</td>\n",
       "      <td>전체</td>\n",
       "      <td>2018</td>\n",
       "      <td>7</td>\n",
       "      <td>2357</td>\n",
       "      <td>2,357</td>\n",
       "      <td>7,778</td>\n",
       "    </tr>\n",
       "    <tr>\n",
       "      <th>2875</th>\n",
       "      <td>경북</td>\n",
       "      <td>전체</td>\n",
       "      <td>2018</td>\n",
       "      <td>7</td>\n",
       "      <td>2674</td>\n",
       "      <td>2,674</td>\n",
       "      <td>8,824</td>\n",
       "    </tr>\n",
       "    <tr>\n",
       "      <th>2880</th>\n",
       "      <td>경남</td>\n",
       "      <td>전체</td>\n",
       "      <td>2018</td>\n",
       "      <td>7</td>\n",
       "      <td>2696</td>\n",
       "      <td>2,696</td>\n",
       "      <td>8,897</td>\n",
       "    </tr>\n",
       "    <tr>\n",
       "      <th>2885</th>\n",
       "      <td>제주</td>\n",
       "      <td>전체</td>\n",
       "      <td>2018</td>\n",
       "      <td>7</td>\n",
       "      <td>3334</td>\n",
       "      <td>3,334</td>\n",
       "      <td>11,002</td>\n",
       "    </tr>\n",
       "  </tbody>\n",
       "</table>\n",
       "<p>578 rows × 7 columns</p>\n",
       "</div>"
      ],
      "text/plain": [
       "     지역명 규모구분    연도   월 분양가격(㎡)  분양가격  평당분양가격\n",
       "0     서울   전체  2015  10    5841 5,841  19,275\n",
       "5     인천   전체  2015  10    3163 3,163  10,438\n",
       "10    경기   전체  2015  10    3138 3,138  10,355\n",
       "15    부산   전체  2015  10    3112 3,112  10,270\n",
       "20    대구   전체  2015  10    2682 2,682   8,851\n",
       "...   ..  ...   ...  ..     ...   ...     ...\n",
       "2865  전북   전체  2018   7    2333 2,333   7,699\n",
       "2870  전남   전체  2018   7    2357 2,357   7,778\n",
       "2875  경북   전체  2018   7    2674 2,674   8,824\n",
       "2880  경남   전체  2018   7    2696 2,696   8,897\n",
       "2885  제주   전체  2018   7    3334 3,334  11,002\n",
       "\n",
       "[578 rows x 7 columns]"
      ]
     },
     "execution_count": 79,
     "metadata": {},
     "output_type": "execute_result"
    }
   ],
   "source": [
    "df_2015_2018"
   ]
  },
  {
   "cell_type": "code",
   "execution_count": 80,
   "metadata": {},
   "outputs": [
    {
     "data": {
      "text/html": [
       "<div>\n",
       "<style scoped>\n",
       "    .dataframe tbody tr th:only-of-type {\n",
       "        vertical-align: middle;\n",
       "    }\n",
       "\n",
       "    .dataframe tbody tr th {\n",
       "        vertical-align: top;\n",
       "    }\n",
       "\n",
       "    .dataframe thead th {\n",
       "        text-align: right;\n",
       "    }\n",
       "</style>\n",
       "<table border=\"1\" class=\"dataframe\">\n",
       "  <thead>\n",
       "    <tr style=\"text-align: right;\">\n",
       "      <th></th>\n",
       "      <th>지역명</th>\n",
       "      <th>연도</th>\n",
       "      <th>월</th>\n",
       "      <th>평당분양가격</th>\n",
       "    </tr>\n",
       "  </thead>\n",
       "  <tbody>\n",
       "    <tr>\n",
       "      <th>0</th>\n",
       "      <td>서울</td>\n",
       "      <td>2015</td>\n",
       "      <td>10</td>\n",
       "      <td>19,275</td>\n",
       "    </tr>\n",
       "    <tr>\n",
       "      <th>5</th>\n",
       "      <td>인천</td>\n",
       "      <td>2015</td>\n",
       "      <td>10</td>\n",
       "      <td>10,438</td>\n",
       "    </tr>\n",
       "    <tr>\n",
       "      <th>10</th>\n",
       "      <td>경기</td>\n",
       "      <td>2015</td>\n",
       "      <td>10</td>\n",
       "      <td>10,355</td>\n",
       "    </tr>\n",
       "    <tr>\n",
       "      <th>15</th>\n",
       "      <td>부산</td>\n",
       "      <td>2015</td>\n",
       "      <td>10</td>\n",
       "      <td>10,270</td>\n",
       "    </tr>\n",
       "    <tr>\n",
       "      <th>20</th>\n",
       "      <td>대구</td>\n",
       "      <td>2015</td>\n",
       "      <td>10</td>\n",
       "      <td>8,851</td>\n",
       "    </tr>\n",
       "  </tbody>\n",
       "</table>\n",
       "</div>"
      ],
      "text/plain": [
       "   지역명    연도   월  평당분양가격\n",
       "0   서울  2015  10  19,275\n",
       "5   인천  2015  10  10,438\n",
       "10  경기  2015  10  10,355\n",
       "15  부산  2015  10  10,270\n",
       "20  대구  2015  10   8,851"
      ]
     },
     "execution_count": 80,
     "metadata": {},
     "output_type": "execute_result"
    }
   ],
   "source": [
    "df_2015_2018_prepare = df_2015_2018[['지역명', '연도', '월', '평당분양가격']]\n",
    "df_2015_2018_prepare.head()"
   ]
  },
  {
   "cell_type": "code",
   "execution_count": 81,
   "metadata": {},
   "outputs": [
    {
     "data": {
      "text/plain": [
       "(1040, 4)"
      ]
     },
     "execution_count": 81,
     "metadata": {},
     "output_type": "execute_result"
    }
   ],
   "source": [
    "df_2013_2018 = pd.concat([df_2013_2015_prepare, df_2015_2018_prepare])\n",
    "df_2013_2018.shape"
   ]
  },
  {
   "cell_type": "code",
   "execution_count": 82,
   "metadata": {},
   "outputs": [
    {
     "data": {
      "text/html": [
       "<div>\n",
       "<style scoped>\n",
       "    .dataframe tbody tr th:only-of-type {\n",
       "        vertical-align: middle;\n",
       "    }\n",
       "\n",
       "    .dataframe tbody tr th {\n",
       "        vertical-align: top;\n",
       "    }\n",
       "\n",
       "    .dataframe thead th {\n",
       "        text-align: right;\n",
       "    }\n",
       "</style>\n",
       "<table border=\"1\" class=\"dataframe\">\n",
       "  <thead>\n",
       "    <tr style=\"text-align: right;\">\n",
       "      <th></th>\n",
       "      <th>지역명</th>\n",
       "      <th>연도</th>\n",
       "      <th>월</th>\n",
       "      <th>평당분양가격</th>\n",
       "    </tr>\n",
       "  </thead>\n",
       "  <tbody>\n",
       "    <tr>\n",
       "      <th>0</th>\n",
       "      <td>전국</td>\n",
       "      <td>2013</td>\n",
       "      <td>12</td>\n",
       "      <td>8,059</td>\n",
       "    </tr>\n",
       "    <tr>\n",
       "      <th>1</th>\n",
       "      <td>서울</td>\n",
       "      <td>2013</td>\n",
       "      <td>12</td>\n",
       "      <td>18,189</td>\n",
       "    </tr>\n",
       "    <tr>\n",
       "      <th>2</th>\n",
       "      <td>부산</td>\n",
       "      <td>2013</td>\n",
       "      <td>12</td>\n",
       "      <td>8,111</td>\n",
       "    </tr>\n",
       "    <tr>\n",
       "      <th>3</th>\n",
       "      <td>대구</td>\n",
       "      <td>2013</td>\n",
       "      <td>12</td>\n",
       "      <td>8,080</td>\n",
       "    </tr>\n",
       "    <tr>\n",
       "      <th>4</th>\n",
       "      <td>인천</td>\n",
       "      <td>2013</td>\n",
       "      <td>12</td>\n",
       "      <td>10,204</td>\n",
       "    </tr>\n",
       "  </tbody>\n",
       "</table>\n",
       "</div>"
      ],
      "text/plain": [
       "  지역명    연도   월  평당분양가격\n",
       "0  전국  2013  12   8,059\n",
       "1  서울  2013  12  18,189\n",
       "2  부산  2013  12   8,111\n",
       "3  대구  2013  12   8,080\n",
       "4  인천  2013  12  10,204"
      ]
     },
     "execution_count": 82,
     "metadata": {},
     "output_type": "execute_result"
    }
   ],
   "source": [
    "df_2013_2018.head()"
   ]
  },
  {
   "cell_type": "code",
   "execution_count": 83,
   "metadata": {},
   "outputs": [
    {
     "data": {
      "text/html": [
       "<div>\n",
       "<style scoped>\n",
       "    .dataframe tbody tr th:only-of-type {\n",
       "        vertical-align: middle;\n",
       "    }\n",
       "\n",
       "    .dataframe tbody tr th {\n",
       "        vertical-align: top;\n",
       "    }\n",
       "\n",
       "    .dataframe thead th {\n",
       "        text-align: right;\n",
       "    }\n",
       "</style>\n",
       "<table border=\"1\" class=\"dataframe\">\n",
       "  <thead>\n",
       "    <tr style=\"text-align: right;\">\n",
       "      <th></th>\n",
       "      <th>지역명</th>\n",
       "      <th>연도</th>\n",
       "      <th>월</th>\n",
       "      <th>평당분양가격</th>\n",
       "    </tr>\n",
       "  </thead>\n",
       "  <tbody>\n",
       "    <tr>\n",
       "      <th>2865</th>\n",
       "      <td>전북</td>\n",
       "      <td>2018</td>\n",
       "      <td>7</td>\n",
       "      <td>7,699</td>\n",
       "    </tr>\n",
       "    <tr>\n",
       "      <th>2870</th>\n",
       "      <td>전남</td>\n",
       "      <td>2018</td>\n",
       "      <td>7</td>\n",
       "      <td>7,778</td>\n",
       "    </tr>\n",
       "    <tr>\n",
       "      <th>2875</th>\n",
       "      <td>경북</td>\n",
       "      <td>2018</td>\n",
       "      <td>7</td>\n",
       "      <td>8,824</td>\n",
       "    </tr>\n",
       "    <tr>\n",
       "      <th>2880</th>\n",
       "      <td>경남</td>\n",
       "      <td>2018</td>\n",
       "      <td>7</td>\n",
       "      <td>8,897</td>\n",
       "    </tr>\n",
       "    <tr>\n",
       "      <th>2885</th>\n",
       "      <td>제주</td>\n",
       "      <td>2018</td>\n",
       "      <td>7</td>\n",
       "      <td>11,002</td>\n",
       "    </tr>\n",
       "  </tbody>\n",
       "</table>\n",
       "</div>"
      ],
      "text/plain": [
       "     지역명    연도  월  평당분양가격\n",
       "2865  전북  2018  7   7,699\n",
       "2870  전남  2018  7   7,778\n",
       "2875  경북  2018  7   8,824\n",
       "2880  경남  2018  7   8,897\n",
       "2885  제주  2018  7  11,002"
      ]
     },
     "execution_count": 83,
     "metadata": {},
     "output_type": "execute_result"
    }
   ],
   "source": [
    "df_2013_2018.tail()"
   ]
  },
  {
   "cell_type": "code",
   "execution_count": 84,
   "metadata": {},
   "outputs": [
    {
     "data": {
      "text/plain": [
       "array(['전국', '서울', '부산', '대구', '인천', '광주', '대전', '울산', '', '경기', '수도권',\n",
       "       '세종', '강원', '충북', '충남', '전북', '전남', '경북', '경남', '제주'], dtype=object)"
      ]
     },
     "execution_count": 84,
     "metadata": {},
     "output_type": "execute_result"
    }
   ],
   "source": [
    "df_2013_2015_region = df_2013_2015_prepare['지역명'].unique()\n",
    "df_2013_2015_region"
   ]
  },
  {
   "cell_type": "code",
   "execution_count": 85,
   "metadata": {},
   "outputs": [
    {
     "data": {
      "text/plain": [
       "array(['서울', '인천', '경기', '부산', '대구', '광주', '대전', '울산', '세종', '강원', '충북',\n",
       "       '충남', '전북', '전남', '경북', '경남', '제주'], dtype=object)"
      ]
     },
     "execution_count": 85,
     "metadata": {},
     "output_type": "execute_result"
    }
   ],
   "source": [
    "df_2015_2018_region = df_2015_2018_prepare['지역명'].unique()\n",
    "df_2015_2018_region"
   ]
  },
  {
   "cell_type": "markdown",
   "metadata": {},
   "source": [
    "2013년도 부터의 자료(df_2013_2015_region)와 2015년도 부터의 자료(df_2015_2018_region)의 고유 지역명이 다른것을 확인할 수 있다."
   ]
  },
  {
   "cell_type": "code",
   "execution_count": 86,
   "metadata": {},
   "outputs": [
    {
     "data": {
      "text/plain": [
       "(1040, 4)"
      ]
     },
     "execution_count": 86,
     "metadata": {},
     "output_type": "execute_result"
    }
   ],
   "source": [
    "df_2013_2018.shape"
   ]
  },
  {
   "cell_type": "code",
   "execution_count": 91,
   "metadata": {},
   "outputs": [
    {
     "data": {
      "text/plain": [
       "<bound method NDFrame.head of      지역명    연도   월  평당분양가격\n",
       "0     전국  2013  12   8,059\n",
       "10   수도권  2013  12  13,083\n",
       "21    전국  2014   1   8,130\n",
       "31   수도권  2014   1  12,995\n",
       "42    전국  2014   2   8,195\n",
       "52   수도권  2014   2  13,041\n",
       "63    전국  2014   3   8,204\n",
       "73   수도권  2014   3  13,069\n",
       "84    전국  2014   4   8,289\n",
       "94   수도권  2014   4  12,991\n",
       "105   전국  2014   5   8,358\n",
       "115  수도권  2014   5  13,312\n",
       "126   전국  2014   6   8,344\n",
       "136  수도권  2014   6  13,064\n",
       "147   전국  2014   7   8,333\n",
       "157  수도권  2014   7  12,947\n",
       "168   전국  2014   8   8,395\n",
       "178  수도권  2014   8  13,127\n",
       "189   전국  2014   9   8,459\n",
       "199  수도권  2014   9  13,293\n",
       "210   전국  2014  10   8,488\n",
       "220  수도권  2014  10  13,391\n",
       "231   전국  2014  11   8,569\n",
       "241  수도권  2014  11  13,539\n",
       "252   전국  2014  12   8,584\n",
       "262  수도권  2014  12  13,556\n",
       "273   전국  2015   1   8,605\n",
       "283  수도권  2015   1  13,693\n",
       "294   전국  2015   2   8,602\n",
       "304  수도권  2015   2  13,634\n",
       "315   전국  2015   3   8,563\n",
       "325  수도권  2015   3  13,253\n",
       "336   전국  2015   4   8,613\n",
       "346  수도권  2015   4  13,155\n",
       "357   전국  2015   5   8,624\n",
       "367  수도권  2015   5  13,201\n",
       "378   전국  2015   6   8,627\n",
       "388  수도권  2015   6  13,130\n",
       "399   전국  2015   7   8,643\n",
       "409  수도권  2015   7  13,038\n",
       "420   전국  2015   8   8,678\n",
       "430  수도권  2015   8  13,155\n",
       "441   전국  2015   9   8,665\n",
       "451  수도권  2015   9  12,920>"
      ]
     },
     "execution_count": 91,
     "metadata": {},
     "output_type": "execute_result"
    }
   ],
   "source": [
    "df_2013_2018.loc[df_2013_2018['지역명'].str.match('전국|수도권')].head"
   ]
  },
  {
   "cell_type": "markdown",
   "metadata": {},
   "source": [
    "dataframe.str.match(''):  \n",
    "데이터프레임을 문자화 시켜 ''와 일치하는 자료 추출 "
   ]
  },
  {
   "cell_type": "code",
   "execution_count": 92,
   "metadata": {},
   "outputs": [],
   "source": [
    "df_2013_2018.drop(\n",
    "    df_2013_2018.loc[df_2013_2018['지역명'].str.match('전국|수도권')].index,\n",
    "    axis = 0,\n",
    "    inplace=True)\n",
    "df_2013_2018.drop(\n",
    "    df_2013_2018.loc[df_2013_2018['지역명'] == ''].index,\n",
    "    axis=0,\n",
    "    inplace=True\n",
    ")"
   ]
  },
  {
   "cell_type": "code",
   "execution_count": 93,
   "metadata": {},
   "outputs": [
    {
     "data": {
      "text/plain": [
       "<bound method NDFrame.head of Empty DataFrame\n",
       "Columns: [지역명, 연도, 월, 평당분양가격]\n",
       "Index: []>"
      ]
     },
     "execution_count": 93,
     "metadata": {},
     "output_type": "execute_result"
    }
   ],
   "source": [
    "df_2013_2018.loc[df_2013_2018['지역명'].str.match('전국|수도권')].head"
   ]
  },
  {
   "cell_type": "markdown",
   "metadata": {},
   "source": [
    "## 2013년 12월 ~ 2018년 7월 전국 신규 민간 아파트 분양가격 동향 시각화\n",
    "\n",
    "* Pandas"
   ]
  },
  {
   "cell_type": "code",
   "execution_count": 96,
   "metadata": {},
   "outputs": [
    {
     "data": {
      "text/plain": [
       "연도\n",
       "2013    8,059\n",
       "2014    8,362\n",
       "2015    8,667\n",
       "2016    9,322\n",
       "2017    9,901\n",
       "2018   10,563\n",
       "Name: 평당분양가격, dtype: float64"
      ]
     },
     "execution_count": 96,
     "metadata": {},
     "output_type": "execute_result"
    }
   ],
   "source": [
    "df_year_mean = df_2013_2018.groupby(['연도'])['평당분양가격'].mean()\n",
    "df_year_mean"
   ]
  },
  {
   "cell_type": "code",
   "execution_count": 97,
   "metadata": {},
   "outputs": [
    {
     "data": {
      "text/plain": [
       "<matplotlib.axes._subplots.AxesSubplot at 0x210c8fa60f0>"
      ]
     },
     "execution_count": 97,
     "metadata": {},
     "output_type": "execute_result"
    },
    {
     "data": {
      "image/png": "[encoded data removed]",
      "text/plain": [
       "<Figure size 432x288 with 1 Axes>"
      ]
     },
     "metadata": {},
     "output_type": "display_data"
    }
   ],
   "source": [
    "df_year_mean.plot.bar(rot=0)"
   ]
  },
  {
   "cell_type": "markdown",
   "metadata": {},
   "source": [
    "* seaborn"
   ]
  },
  {
   "cell_type": "code",
   "execution_count": 98,
   "metadata": {},
   "outputs": [
    {
     "data": {
      "text/plain": [
       "<matplotlib.axes._subplots.AxesSubplot at 0x210c687bcc0>"
      ]
     },
     "execution_count": 98,
     "metadata": {},
     "output_type": "execute_result"
    },
    {
     "data": {
      "image/png": "[encoded data removed]",
      "text/plain": [
       "<Figure size 432x288 with 1 Axes>"
      ]
     },
     "metadata": {},
     "output_type": "display_data"
    }
   ],
   "source": [
    "sns.barplot(data=df_2013_2018, x='연도', y = '평당분양가격')"
   ]
  },
  {
   "cell_type": "code",
   "execution_count": 99,
   "metadata": {},
   "outputs": [
    {
     "data": {
      "text/plain": [
       "<matplotlib.axes._subplots.AxesSubplot at 0x210cb73def0>"
      ]
     },
     "execution_count": 99,
     "metadata": {},
     "output_type": "execute_result"
    },
    {
     "data": {
      "image/png": "[encoded data removed]",
      "text/plain": [
       "<Figure size 864x432 with 1 Axes>"
      ]
     },
     "metadata": {},
     "output_type": "display_data"
    }
   ],
   "source": [
    "df_2015_2018_prepare[['연도', '지역명', '평당분양가격']].boxplot(by=['연도'], figsize=(12,6))"
   ]
  },
  {
   "cell_type": "code",
   "execution_count": 100,
   "metadata": {},
   "outputs": [
    {
     "data": {
      "text/plain": [
       "<matplotlib.axes._subplots.AxesSubplot at 0x210c8c46630>"
      ]
     },
     "execution_count": 100,
     "metadata": {},
     "output_type": "execute_result"
    },
    {
     "data": {
      "image/png": "[encoded data removed]",
      "text/plain": [
       "<Figure size 864x432 with 1 Axes>"
      ]
     },
     "metadata": {},
     "output_type": "display_data"
    }
   ],
   "source": [
    "df_2013_2018[['연도', '지역명', '평당분양가격']].boxplot(by=['연도'], figsize=(12,6))"
   ]
  },
  {
   "cell_type": "code",
   "execution_count": 101,
   "metadata": {},
   "outputs": [
    {
     "data": {
      "text/plain": [
       "<matplotlib.axes._subplots.AxesSubplot at 0x210c68d25c0>"
      ]
     },
     "execution_count": 101,
     "metadata": {},
     "output_type": "execute_result"
    },
    {
     "data": {
      "image/png": "[encoded data removed]",
      "text/plain": [
       "<Figure size 864x432 with 1 Axes>"
      ]
     },
     "metadata": {},
     "output_type": "display_data"
    }
   ],
   "source": [
    "df_2013_2018_jeju = df_2013_2018[df_2013_2018['지역명'] == '제주']\n",
    "df_2013_2018_jeju[['연도', '지역명', '평당분양가격']].boxplot(by=['연도'], figsize=(12,6))"
   ]
  },
  {
   "cell_type": "code",
   "execution_count": 102,
   "metadata": {},
   "outputs": [
    {
     "data": {
      "text/plain": [
       "2017    12\n",
       "2015    12\n",
       "2014    12\n",
       "2016    10\n",
       "2018     7\n",
       "2013     1\n",
       "Name: 연도, dtype: int64"
      ]
     },
     "execution_count": 102,
     "metadata": {},
     "output_type": "execute_result"
    }
   ],
   "source": [
    "df_2013_2018_jeju['연도'].value_counts()"
   ]
  }
 ],
 "metadata": {
  "kernelspec": {
   "display_name": "Python 3",
   "language": "python",
   "name": "python3"
  },
  "language_info": {
   "codemirror_mode": {
    "name": "ipython",
    "version": 3
   },
   "file_extension": ".py",
   "mimetype": "text/x-python",
   "name": "python",
   "nbconvert_exporter": "python",
   "pygments_lexer": "ipython3",
   "version": "3.7.3"
  }
 },
 "nbformat": 4,
 "nbformat_minor": 4
}
